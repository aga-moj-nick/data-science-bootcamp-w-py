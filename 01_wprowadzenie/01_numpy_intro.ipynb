{
  "nbformat": 4,
  "nbformat_minor": 0,
  "metadata": {
    "colab": {
      "name": "01_numpy_intro.ipynb",
      "provenance": [],
      "include_colab_link": true
    },
    "kernelspec": {
      "name": "python3",
      "display_name": "Python 3"
    }
  },
  "cells": [
    {
      "cell_type": "markdown",
      "metadata": {
        "id": "view-in-github",
        "colab_type": "text"
      },
      "source": [
        "<a href=\"https://colab.research.google.com/github/aga-moj-nick/data-science-bootcamp-w-py/blob/main/01_wprowadzenie/01_numpy_intro.ipynb\" target=\"_parent\"><img src=\"https://colab.research.google.com/assets/colab-badge.svg\" alt=\"Open In Colab\"/></a>"
      ]
    },
    {
      "cell_type": "markdown",
      "metadata": {
        "id": "Egt9_Z5ZH0QE"
      },
      "source": [
        "--* @author: krakowiakpawel9@gmail.com  \n",
        "* @site: e-smartdata.org"
      ]
    },
    {
      "cell_type": "markdown",
      "metadata": {
        "id": "ZlL4HqNannLQ"
      },
      "source": [
        "### NumPy\n",
        ">Strona biblioteki: [https://numpy.org/](https://numpy.org/)  \n",
        ">Dokumentacja: [https://numpy.org/doc/](https://numpy.org/doc/)  \n",
        ">\n",
        ">Podstawowa biblioteka do obliczeń numerycznych w języku Python.\n",
        ">\n",
        ">Aby zainstalować bibliotekę NumPy, użyj polecenia poniżej:\n",
        "```\n",
        "pip install numpy\n",
        "```\n",
        "\n",
        "### Spis treści:\n",
        "1. [Podstawy](#a1)\n",
        "2. [Typy danych](#a2)\n",
        "3. [Tworzenie tablic](#a3)\n",
        "4. [Podstawowe operacje na tablicach](#a4)\n",
        "5. [Generowanie liczb pseudolosowych](#a5)\n",
        "6. [Podstawowe funkcje](#a6)\n",
        "7. [Indeksowanie, Wycinanie](#a7)\n",
        "8. [Iteracja po tablicach](#a8)\n",
        "9. [Zmiana rozmiaru tablic](#a9)\n",
        "10. [Maski logiczne](#a10)\n"
      ]
    },
    {
      "cell_type": "markdown",
      "metadata": {
        "id": "IMpcjlz1rxLL"
      },
      "source": [
        "### <a name='a1'></a> Podstawy"
      ]
    },
    {
      "cell_type": "code",
      "source": [
        "import numpy as np\n",
        "np.__version__"
      ],
      "metadata": {
        "id": "uT_LuqaV3N2c",
        "outputId": "365026cb-106b-4f5e-e3f4-27f2a41ecb88",
        "colab": {
          "base_uri": "https://localhost:8080/",
          "height": 36
        }
      },
      "execution_count": 1,
      "outputs": [
        {
          "output_type": "execute_result",
          "data": {
            "text/plain": [
              "'1.22.4'"
            ],
            "application/vnd.google.colaboratory.intrinsic+json": {
              "type": "string"
            }
          },
          "metadata": {},
          "execution_count": 1
        }
      ]
    },
    {
      "cell_type": "code",
      "source": [
        "print(dir(np))\n"
      ],
      "metadata": {
        "id": "zinNyfzQ3osS"
      },
      "execution_count": null,
      "outputs": []
    },
    {
      "cell_type": "code",
      "metadata": {
        "id": "liUwW0GyX6rZ",
        "outputId": "579058fc-de43-4919-a421-c18f0859b688",
        "colab": {
          "base_uri": "https://localhost:8080/",
          "height": 35
        }
      },
      "source": [
        "import numpy as np\n",
        "np.__version__"
      ],
      "execution_count": null,
      "outputs": [
        {
          "output_type": "execute_result",
          "data": {
            "text/plain": [
              "'1.17.4'"
            ]
          },
          "metadata": {
            "tags": []
          },
          "execution_count": 1
        }
      ]
    },
    {
      "cell_type": "code",
      "metadata": {
        "id": "dAgLPBdCYMhF"
      },
      "source": [
        "print(dir(np))"
      ],
      "execution_count": null,
      "outputs": []
    },
    {
      "cell_type": "code",
      "source": [
        "help(np.array)"
      ],
      "metadata": {
        "id": "RJ4UOSK139U3"
      },
      "execution_count": null,
      "outputs": []
    },
    {
      "cell_type": "code",
      "metadata": {
        "id": "nv9jqgzoYdSl"
      },
      "source": [
        "help(np.array)"
      ],
      "execution_count": null,
      "outputs": []
    },
    {
      "cell_type": "markdown",
      "metadata": {
        "id": "k2tFMBzHvwqU"
      },
      "source": [
        "1D Array"
      ]
    },
    {
      "cell_type": "code",
      "source": [
        "x = np.array([1, 3])\n",
        "x"
      ],
      "metadata": {
        "id": "JIvz6Dwu5Y2W",
        "outputId": "6b492bee-11be-4ba4-9b1b-f0b52150b1ea",
        "colab": {
          "base_uri": "https://localhost:8080/"
        }
      },
      "execution_count": 5,
      "outputs": [
        {
          "output_type": "execute_result",
          "data": {
            "text/plain": [
              "array([1, 3])"
            ]
          },
          "metadata": {},
          "execution_count": 5
        }
      ]
    },
    {
      "cell_type": "code",
      "metadata": {
        "id": "Uaa1zSelY0mz",
        "outputId": "a76c2074-f494-487b-9395-a240306b6ea9",
        "colab": {
          "base_uri": "https://localhost:8080/",
          "height": 35
        }
      },
      "source": [
        "x = np.array([1, 3])\n",
        "x"
      ],
      "execution_count": null,
      "outputs": [
        {
          "output_type": "execute_result",
          "data": {
            "text/plain": [
              "array([1, 3])"
            ]
          },
          "metadata": {
            "tags": []
          },
          "execution_count": 5
        }
      ]
    },
    {
      "cell_type": "code",
      "source": [
        "print(x)"
      ],
      "metadata": {
        "id": "VX8QQ1Ck5qqH",
        "outputId": "71ad4c51-c551-434c-fadf-d5005eef3529",
        "colab": {
          "base_uri": "https://localhost:8080/"
        }
      },
      "execution_count": 6,
      "outputs": [
        {
          "output_type": "stream",
          "name": "stdout",
          "text": [
            "[1 3]\n"
          ]
        }
      ]
    },
    {
      "cell_type": "code",
      "metadata": {
        "id": "aY97neIfZAJ8",
        "outputId": "00c63c87-3fbc-4471-9676-2a5389a5e9b5",
        "colab": {
          "base_uri": "https://localhost:8080/",
          "height": 35
        }
      },
      "source": [
        "print(x)"
      ],
      "execution_count": null,
      "outputs": [
        {
          "output_type": "stream",
          "text": [
            "[1 3]\n"
          ],
          "name": "stdout"
        }
      ]
    },
    {
      "cell_type": "code",
      "metadata": {
        "id": "A817SyhmZDMm",
        "outputId": "b3bf287a-7170-4293-ddfa-1177d9da7b0c",
        "colab": {
          "base_uri": "https://localhost:8080/"
        }
      },
      "source": [
        "type(x)"
      ],
      "execution_count": 7,
      "outputs": [
        {
          "output_type": "execute_result",
          "data": {
            "text/plain": [
              "numpy.ndarray"
            ]
          },
          "metadata": {},
          "execution_count": 7
        }
      ]
    },
    {
      "cell_type": "code",
      "source": [
        "x.ndim"
      ],
      "metadata": {
        "id": "_EHVOGgy5--z",
        "outputId": "94fbe092-123e-4c88-bc45-ccd3ce3689e9",
        "colab": {
          "base_uri": "https://localhost:8080/"
        }
      },
      "execution_count": 8,
      "outputs": [
        {
          "output_type": "execute_result",
          "data": {
            "text/plain": [
              "1"
            ]
          },
          "metadata": {},
          "execution_count": 8
        }
      ]
    },
    {
      "cell_type": "code",
      "metadata": {
        "id": "TiMci5quZ_1C",
        "outputId": "24d6866d-b8c5-4e9a-e94e-576549346226",
        "colab": {
          "base_uri": "https://localhost:8080/",
          "height": 35
        }
      },
      "source": [
        "x.ndim"
      ],
      "execution_count": null,
      "outputs": [
        {
          "output_type": "execute_result",
          "data": {
            "text/plain": [
              "1"
            ]
          },
          "metadata": {
            "tags": []
          },
          "execution_count": 8
        }
      ]
    },
    {
      "cell_type": "code",
      "metadata": {
        "id": "lTctYxeTaEfi",
        "outputId": "2047d11d-2654-4de5-9f80-01c282ad5081",
        "colab": {
          "base_uri": "https://localhost:8080/"
        }
      },
      "source": [
        "x.shape"
      ],
      "execution_count": 9,
      "outputs": [
        {
          "output_type": "execute_result",
          "data": {
            "text/plain": [
              "(2,)"
            ]
          },
          "metadata": {},
          "execution_count": 9
        }
      ]
    },
    {
      "cell_type": "code",
      "metadata": {
        "id": "5SJ8KizDaJZW",
        "outputId": "d6e94257-4989-44b8-dfe1-e668c38b4f50",
        "colab": {
          "base_uri": "https://localhost:8080/"
        }
      },
      "source": [
        "x.size"
      ],
      "execution_count": 10,
      "outputs": [
        {
          "output_type": "execute_result",
          "data": {
            "text/plain": [
              "2"
            ]
          },
          "metadata": {},
          "execution_count": 10
        }
      ]
    },
    {
      "cell_type": "code",
      "metadata": {
        "id": "8E-IdTJfaM8b",
        "outputId": "9593eb66-aff8-442f-a832-411aa70f3b20",
        "colab": {
          "base_uri": "https://localhost:8080/"
        }
      },
      "source": [
        "x.dtype"
      ],
      "execution_count": 11,
      "outputs": [
        {
          "output_type": "execute_result",
          "data": {
            "text/plain": [
              "dtype('int64')"
            ]
          },
          "metadata": {},
          "execution_count": 11
        }
      ]
    },
    {
      "cell_type": "code",
      "metadata": {
        "id": "z_RPy2eBaWWW",
        "outputId": "cb4c1d31-aa05-4f4f-854f-7a09ed53d4d1",
        "colab": {
          "base_uri": "https://localhost:8080/"
        }
      },
      "source": [
        "x = np.array([1.3, 2.3, 1.4])\n",
        "print(x)"
      ],
      "execution_count": 14,
      "outputs": [
        {
          "output_type": "stream",
          "name": "stdout",
          "text": [
            "[1.3 2.3 1.4]\n"
          ]
        }
      ]
    },
    {
      "cell_type": "code",
      "metadata": {
        "id": "fFCgrbRpajCe",
        "outputId": "9baeb73d-36b1-4366-e706-75c3ddf8a815",
        "colab": {
          "base_uri": "https://localhost:8080/",
          "height": 35
        }
      },
      "source": [
        "x.dtype"
      ],
      "execution_count": null,
      "outputs": [
        {
          "output_type": "execute_result",
          "data": {
            "text/plain": [
              "dtype('float64')"
            ]
          },
          "metadata": {
            "tags": []
          },
          "execution_count": 14
        }
      ]
    },
    {
      "cell_type": "code",
      "source": [
        "x = np.array([1.3, 2.3, 1.4])\n",
        "print(x)"
      ],
      "metadata": {
        "id": "ZcwZWSM66pjt",
        "outputId": "e028e348-1a2f-4040-c89b-a86a35560d27",
        "colab": {
          "base_uri": "https://localhost:8080/"
        }
      },
      "execution_count": 15,
      "outputs": [
        {
          "output_type": "stream",
          "name": "stdout",
          "text": [
            "[1.3 2.3 1.4]\n"
          ]
        }
      ]
    },
    {
      "cell_type": "code",
      "source": [
        "x.dtype"
      ],
      "metadata": {
        "id": "XcriJPwc7EBM",
        "outputId": "71eb9e05-87f4-4849-9c2d-8e5d43d028bf",
        "colab": {
          "base_uri": "https://localhost:8080/"
        }
      },
      "execution_count": 66,
      "outputs": [
        {
          "output_type": "execute_result",
          "data": {
            "text/plain": [
              "dtype('int64')"
            ]
          },
          "metadata": {},
          "execution_count": 66
        }
      ]
    },
    {
      "cell_type": "markdown",
      "metadata": {
        "id": "nzax3ujLv6k9"
      },
      "source": [
        "2D Array"
      ]
    },
    {
      "cell_type": "code",
      "metadata": {
        "id": "WgIYISozanNp",
        "outputId": "82a29907-e9c8-4086-ae00-5a2d054050bd",
        "colab": {
          "base_uri": "https://localhost:8080/"
        }
      },
      "source": [
        "x = np.array([[1, 2], [-3, 1]])\n",
        "x"
      ],
      "execution_count": 20,
      "outputs": [
        {
          "output_type": "execute_result",
          "data": {
            "text/plain": [
              "array([[ 1,  2],\n",
              "       [-3,  1]])"
            ]
          },
          "metadata": {},
          "execution_count": 20
        }
      ]
    },
    {
      "cell_type": "code",
      "metadata": {
        "id": "fBsDfQ4Xa1bU",
        "outputId": "3623100d-8218-469d-a53a-3cf8b68ac955",
        "colab": {
          "base_uri": "https://localhost:8080/"
        }
      },
      "source": [
        "x.ndim"
      ],
      "execution_count": 21,
      "outputs": [
        {
          "output_type": "execute_result",
          "data": {
            "text/plain": [
              "2"
            ]
          },
          "metadata": {},
          "execution_count": 21
        }
      ]
    },
    {
      "cell_type": "code",
      "metadata": {
        "id": "ySPwrvOXa5Hu",
        "outputId": "8de1ec35-c8c8-4a3a-af03-ebe78e98dbf4",
        "colab": {
          "base_uri": "https://localhost:8080/"
        }
      },
      "source": [
        "x.shape"
      ],
      "execution_count": 22,
      "outputs": [
        {
          "output_type": "execute_result",
          "data": {
            "text/plain": [
              "(2, 2)"
            ]
          },
          "metadata": {},
          "execution_count": 22
        }
      ]
    },
    {
      "cell_type": "code",
      "metadata": {
        "id": "4ul5se3lbOvO",
        "outputId": "b3c7c259-9d29-4796-b59d-4bd866ac656d",
        "colab": {
          "base_uri": "https://localhost:8080/"
        }
      },
      "source": [
        "x = np.array([[1, 2, 4], [4, 2, 1]])\n",
        "print(x)"
      ],
      "execution_count": 23,
      "outputs": [
        {
          "output_type": "stream",
          "name": "stdout",
          "text": [
            "[[1 2 4]\n",
            " [4 2 1]]\n"
          ]
        }
      ]
    },
    {
      "cell_type": "code",
      "metadata": {
        "id": "EtFwKRQdbWsU",
        "outputId": "39429325-7865-4c7f-ea57-77876d1e4ca3",
        "colab": {
          "base_uri": "https://localhost:8080/"
        }
      },
      "source": [
        "x.shape"
      ],
      "execution_count": 24,
      "outputs": [
        {
          "output_type": "execute_result",
          "data": {
            "text/plain": [
              "(2, 3)"
            ]
          },
          "metadata": {},
          "execution_count": 24
        }
      ]
    },
    {
      "cell_type": "markdown",
      "metadata": {
        "id": "v6ojTlPywsFW"
      },
      "source": [
        "3D Array"
      ]
    },
    {
      "cell_type": "code",
      "metadata": {
        "id": "afnINRJ-ba09",
        "outputId": "8b53cffb-eebb-4f96-bc38-586f336d6607",
        "colab": {
          "base_uri": "https://localhost:8080/"
        }
      },
      "source": [
        "x = np.array(\n",
        "    [[[4, 3, 1],\n",
        "      [3, 1, 2]],\n",
        "     \n",
        "     [[4, 1, 3],\n",
        "      [4, 2, 1]],\n",
        "     \n",
        "     [[3, 2, 1],\n",
        "      [4, 3, 2]]]\n",
        ")\n",
        "x"
      ],
      "execution_count": 25,
      "outputs": [
        {
          "output_type": "execute_result",
          "data": {
            "text/plain": [
              "array([[[4, 3, 1],\n",
              "        [3, 1, 2]],\n",
              "\n",
              "       [[4, 1, 3],\n",
              "        [4, 2, 1]],\n",
              "\n",
              "       [[3, 2, 1],\n",
              "        [4, 3, 2]]])"
            ]
          },
          "metadata": {},
          "execution_count": 25
        }
      ]
    },
    {
      "cell_type": "code",
      "metadata": {
        "id": "Q6cbJy-YbuOV",
        "outputId": "d813986f-104d-4036-f4e7-19e8b74e754b",
        "colab": {
          "base_uri": "https://localhost:8080/"
        }
      },
      "source": [
        "x.ndim"
      ],
      "execution_count": 26,
      "outputs": [
        {
          "output_type": "execute_result",
          "data": {
            "text/plain": [
              "3"
            ]
          },
          "metadata": {},
          "execution_count": 26
        }
      ]
    },
    {
      "cell_type": "code",
      "metadata": {
        "id": "JSMi4aj3bwCz",
        "outputId": "3fce80c8-cebd-4631-e1b5-962c24a5d07f",
        "colab": {
          "base_uri": "https://localhost:8080/"
        }
      },
      "source": [
        "x.shape"
      ],
      "execution_count": 27,
      "outputs": [
        {
          "output_type": "execute_result",
          "data": {
            "text/plain": [
              "(3, 2, 3)"
            ]
          },
          "metadata": {},
          "execution_count": 27
        }
      ]
    },
    {
      "cell_type": "code",
      "source": [
        "x = np.array(\n",
        "    [[[4, 3, 1],\n",
        "      [3, 1, 2]],\n",
        "     \n",
        "     [[4, 1, 3],\n",
        "      [4, 2, 1]],\n",
        "     \n",
        "     [[3, 2, 1],\n",
        "      [4, 3, 2]]]\n",
        ")\n",
        "print(x)"
      ],
      "metadata": {
        "id": "HIdZGtIC97aN",
        "outputId": "798e7993-9850-441e-a1a3-a80f54b8635e",
        "colab": {
          "base_uri": "https://localhost:8080/"
        }
      },
      "execution_count": 28,
      "outputs": [
        {
          "output_type": "stream",
          "name": "stdout",
          "text": [
            "[[[4 3 1]\n",
            "  [3 1 2]]\n",
            "\n",
            " [[4 1 3]\n",
            "  [4 2 1]]\n",
            "\n",
            " [[3 2 1]\n",
            "  [4 3 2]]]\n"
          ]
        }
      ]
    },
    {
      "cell_type": "markdown",
      "metadata": {
        "id": "7e_t9WDPyxwI"
      },
      "source": [
        "### <a name='a2'></a> Typy danych"
      ]
    },
    {
      "cell_type": "code",
      "metadata": {
        "id": "MVgNvIAjc25D",
        "outputId": "020cf7d8-d517-495b-b8b8-61cb43e38d24",
        "colab": {
          "base_uri": "https://localhost:8080/"
        }
      },
      "source": [
        "A = np.array([1, 2, 3])\n",
        "A.dtype"
      ],
      "execution_count": 29,
      "outputs": [
        {
          "output_type": "execute_result",
          "data": {
            "text/plain": [
              "dtype('int64')"
            ]
          },
          "metadata": {},
          "execution_count": 29
        }
      ]
    },
    {
      "cell_type": "code",
      "metadata": {
        "id": "B8SuNhsqc9HR",
        "outputId": "d70da721-06d1-44ce-9f79-b2f6b7127ff4",
        "colab": {
          "base_uri": "https://localhost:8080/"
        }
      },
      "source": [
        "A = np.array([1.0, 2.3, 3.3])\n",
        "A.dtype"
      ],
      "execution_count": 30,
      "outputs": [
        {
          "output_type": "execute_result",
          "data": {
            "text/plain": [
              "dtype('float64')"
            ]
          },
          "metadata": {},
          "execution_count": 30
        }
      ]
    },
    {
      "cell_type": "code",
      "metadata": {
        "id": "hWrlSHoQdBro",
        "outputId": "bf81d465-5fc1-4147-8fce-a525c173604b",
        "colab": {
          "base_uri": "https://localhost:8080/"
        }
      },
      "source": [
        "A = np.array([1, 2, 3], dtype='float')\n",
        "A.dtype"
      ],
      "execution_count": 63,
      "outputs": [
        {
          "output_type": "execute_result",
          "data": {
            "text/plain": [
              "dtype('float64')"
            ]
          },
          "metadata": {},
          "execution_count": 63
        }
      ]
    },
    {
      "cell_type": "code",
      "source": [
        "A = np.array(['ala', 'ma', 'kota'], dtype='string')\n",
        "A.dtype"
      ],
      "metadata": {
        "id": "1EI4Yzz9-xM4",
        "outputId": "a3ba9faa-06df-4a4c-fee7-02d4394e7026",
        "colab": {
          "base_uri": "https://localhost:8080/",
          "height": 189
        }
      },
      "execution_count": 67,
      "outputs": [
        {
          "output_type": "error",
          "ename": "TypeError",
          "evalue": "ignored",
          "traceback": [
            "\u001b[0;31m---------------------------------------------------------------------------\u001b[0m",
            "\u001b[0;31mTypeError\u001b[0m                                 Traceback (most recent call last)",
            "\u001b[0;32m<ipython-input-67-1bb1e2b95a65>\u001b[0m in \u001b[0;36m<module>\u001b[0;34m\u001b[0m\n\u001b[0;32m----> 1\u001b[0;31m \u001b[0mA\u001b[0m \u001b[0;34m=\u001b[0m \u001b[0mnp\u001b[0m\u001b[0;34m.\u001b[0m\u001b[0marray\u001b[0m\u001b[0;34m(\u001b[0m\u001b[0;34m[\u001b[0m\u001b[0;34m'ala'\u001b[0m\u001b[0;34m,\u001b[0m \u001b[0;34m'ma'\u001b[0m\u001b[0;34m,\u001b[0m \u001b[0;34m'kota'\u001b[0m\u001b[0;34m]\u001b[0m\u001b[0;34m,\u001b[0m \u001b[0mdtype\u001b[0m\u001b[0;34m=\u001b[0m\u001b[0;34m'string'\u001b[0m\u001b[0;34m)\u001b[0m\u001b[0;34m\u001b[0m\u001b[0;34m\u001b[0m\u001b[0m\n\u001b[0m\u001b[1;32m      2\u001b[0m \u001b[0mA\u001b[0m\u001b[0;34m.\u001b[0m\u001b[0mdtype\u001b[0m\u001b[0;34m\u001b[0m\u001b[0;34m\u001b[0m\u001b[0m\n",
            "\u001b[0;31mTypeError\u001b[0m: data type 'string' not understood"
          ]
        }
      ]
    },
    {
      "cell_type": "code",
      "metadata": {
        "id": "siqWSzt0dK8x",
        "outputId": "1445b918-db97-4c57-b00f-5cb6edfd17e1",
        "colab": {
          "base_uri": "https://localhost:8080/"
        }
      },
      "source": [
        "A = np.array([1, 2, 3], dtype='complex')\n",
        "A.dtype"
      ],
      "execution_count": 36,
      "outputs": [
        {
          "output_type": "execute_result",
          "data": {
            "text/plain": [
              "dtype('complex128')"
            ]
          },
          "metadata": {},
          "execution_count": 36
        }
      ]
    },
    {
      "cell_type": "code",
      "metadata": {
        "id": "i59_D14kdRFg",
        "outputId": "b54747a6-257d-4586-aed0-9a3f7cdab524",
        "colab": {
          "base_uri": "https://localhost:8080/"
        }
      },
      "source": [
        "A = np.array([1.0, 2.7, 3.3], dtype='int')\n",
        "A.dtype"
      ],
      "execution_count": 37,
      "outputs": [
        {
          "output_type": "execute_result",
          "data": {
            "text/plain": [
              "dtype('int64')"
            ]
          },
          "metadata": {},
          "execution_count": 37
        }
      ]
    },
    {
      "cell_type": "code",
      "metadata": {
        "id": "yXJOQ7XvdYwV",
        "outputId": "5dfcf6ed-d050-4e50-9d77-5edddc8d1517",
        "colab": {
          "base_uri": "https://localhost:8080/"
        }
      },
      "source": [
        "A"
      ],
      "execution_count": 38,
      "outputs": [
        {
          "output_type": "execute_result",
          "data": {
            "text/plain": [
              "array([1, 2, 3])"
            ]
          },
          "metadata": {},
          "execution_count": 38
        }
      ]
    },
    {
      "cell_type": "code",
      "metadata": {
        "id": "7BDEXkhudgZY",
        "outputId": "889024d8-a27c-42bc-8b3c-17b007c907eb",
        "colab": {
          "base_uri": "https://localhost:8080/"
        }
      },
      "source": [
        "A = np.array([True, False])\n",
        "A.dtype"
      ],
      "execution_count": 39,
      "outputs": [
        {
          "output_type": "execute_result",
          "data": {
            "text/plain": [
              "dtype('bool')"
            ]
          },
          "metadata": {},
          "execution_count": 39
        }
      ]
    },
    {
      "cell_type": "code",
      "metadata": {
        "id": "tDvP-Vyjdn2Y",
        "outputId": "57b7a0a1-55ae-4210-d487-358ca1d276f2",
        "colab": {
          "base_uri": "https://localhost:8080/"
        }
      },
      "source": [
        "A = np.array([24, 120, 230], dtype=np.int8)\n",
        "A.dtype"
      ],
      "execution_count": 40,
      "outputs": [
        {
          "output_type": "execute_result",
          "data": {
            "text/plain": [
              "dtype('int8')"
            ]
          },
          "metadata": {},
          "execution_count": 40
        }
      ]
    },
    {
      "cell_type": "code",
      "metadata": {
        "id": "YTXFNQq_d0NB",
        "outputId": "a2b4cf7c-abfb-4681-ffb3-b4654fa59e70",
        "colab": {
          "base_uri": "https://localhost:8080/"
        }
      },
      "source": [
        "A = np.array([24, 120, 230], dtype=np.uint8)\n",
        "A.dtype"
      ],
      "execution_count": 41,
      "outputs": [
        {
          "output_type": "execute_result",
          "data": {
            "text/plain": [
              "dtype('uint8')"
            ]
          },
          "metadata": {},
          "execution_count": 41
        }
      ]
    },
    {
      "cell_type": "markdown",
      "metadata": {
        "id": "LJBVmwy0zYUI"
      },
      "source": [
        "### <a name='a3'></a> Tworzenie tablic"
      ]
    },
    {
      "cell_type": "code",
      "metadata": {
        "id": "zEuE1HaTeO6_",
        "outputId": "7ab902e7-485a-4e15-fcf7-553daa2b3693",
        "colab": {
          "base_uri": "https://localhost:8080/"
        }
      },
      "source": [
        "np.zeros(shape=(4, 10))"
      ],
      "execution_count": 42,
      "outputs": [
        {
          "output_type": "execute_result",
          "data": {
            "text/plain": [
              "array([[0., 0., 0., 0., 0., 0., 0., 0., 0., 0.],\n",
              "       [0., 0., 0., 0., 0., 0., 0., 0., 0., 0.],\n",
              "       [0., 0., 0., 0., 0., 0., 0., 0., 0., 0.],\n",
              "       [0., 0., 0., 0., 0., 0., 0., 0., 0., 0.]])"
            ]
          },
          "metadata": {},
          "execution_count": 42
        }
      ]
    },
    {
      "cell_type": "code",
      "source": [
        "np.zeros(shape=(10, 4))"
      ],
      "metadata": {
        "id": "W6lb32zKCXWx",
        "outputId": "865e11a0-bef1-4db5-f336-228a6e9da6fd",
        "colab": {
          "base_uri": "https://localhost:8080/"
        }
      },
      "execution_count": 43,
      "outputs": [
        {
          "output_type": "execute_result",
          "data": {
            "text/plain": [
              "array([[0., 0., 0., 0.],\n",
              "       [0., 0., 0., 0.],\n",
              "       [0., 0., 0., 0.],\n",
              "       [0., 0., 0., 0.],\n",
              "       [0., 0., 0., 0.],\n",
              "       [0., 0., 0., 0.],\n",
              "       [0., 0., 0., 0.],\n",
              "       [0., 0., 0., 0.],\n",
              "       [0., 0., 0., 0.],\n",
              "       [0., 0., 0., 0.]])"
            ]
          },
          "metadata": {},
          "execution_count": 43
        }
      ]
    },
    {
      "cell_type": "code",
      "metadata": {
        "id": "sflIdlnHeb9Y",
        "outputId": "94028b05-9a6e-421c-9793-e7b13d17b728",
        "colab": {
          "base_uri": "https://localhost:8080/"
        }
      },
      "source": [
        "np.zeros(shape=(4, 10), dtype='int')"
      ],
      "execution_count": 44,
      "outputs": [
        {
          "output_type": "execute_result",
          "data": {
            "text/plain": [
              "array([[0, 0, 0, 0, 0, 0, 0, 0, 0, 0],\n",
              "       [0, 0, 0, 0, 0, 0, 0, 0, 0, 0],\n",
              "       [0, 0, 0, 0, 0, 0, 0, 0, 0, 0],\n",
              "       [0, 0, 0, 0, 0, 0, 0, 0, 0, 0]])"
            ]
          },
          "metadata": {},
          "execution_count": 44
        }
      ]
    },
    {
      "cell_type": "code",
      "source": [
        "np.zeros(shape=(10, 4), dtype='int')"
      ],
      "metadata": {
        "id": "A45Lk3yHClRJ",
        "outputId": "50511bd1-4074-498a-f655-b93f2889a6d9",
        "colab": {
          "base_uri": "https://localhost:8080/"
        }
      },
      "execution_count": 45,
      "outputs": [
        {
          "output_type": "execute_result",
          "data": {
            "text/plain": [
              "array([[0, 0, 0, 0],\n",
              "       [0, 0, 0, 0],\n",
              "       [0, 0, 0, 0],\n",
              "       [0, 0, 0, 0],\n",
              "       [0, 0, 0, 0],\n",
              "       [0, 0, 0, 0],\n",
              "       [0, 0, 0, 0],\n",
              "       [0, 0, 0, 0],\n",
              "       [0, 0, 0, 0],\n",
              "       [0, 0, 0, 0]])"
            ]
          },
          "metadata": {},
          "execution_count": 45
        }
      ]
    },
    {
      "cell_type": "code",
      "metadata": {
        "id": "MwL2aFmMehnj",
        "outputId": "0a011e6c-216c-411a-c660-452eb21eba6d",
        "colab": {
          "base_uri": "https://localhost:8080/"
        }
      },
      "source": [
        "np.ones(shape=(5, 5))"
      ],
      "execution_count": 47,
      "outputs": [
        {
          "output_type": "execute_result",
          "data": {
            "text/plain": [
              "array([[1., 1., 1., 1., 1.],\n",
              "       [1., 1., 1., 1., 1.],\n",
              "       [1., 1., 1., 1., 1.],\n",
              "       [1., 1., 1., 1., 1.],\n",
              "       [1., 1., 1., 1., 1.]])"
            ]
          },
          "metadata": {},
          "execution_count": 47
        }
      ]
    },
    {
      "cell_type": "code",
      "metadata": {
        "id": "NZC3pCTgeuK8",
        "outputId": "dff5eaa6-1992-4f73-a899-d23d9a6c9d70",
        "colab": {
          "base_uri": "https://localhost:8080/"
        }
      },
      "source": [
        "np.ones(shape=(5, 5), dtype='int')"
      ],
      "execution_count": 48,
      "outputs": [
        {
          "output_type": "execute_result",
          "data": {
            "text/plain": [
              "array([[1, 1, 1, 1, 1],\n",
              "       [1, 1, 1, 1, 1],\n",
              "       [1, 1, 1, 1, 1],\n",
              "       [1, 1, 1, 1, 1],\n",
              "       [1, 1, 1, 1, 1]])"
            ]
          },
          "metadata": {},
          "execution_count": 48
        }
      ]
    },
    {
      "cell_type": "code",
      "metadata": {
        "id": "O9tqbqOieyfo",
        "outputId": "e2e409ec-c39e-4f46-9be8-e7949d38fcc0",
        "colab": {
          "base_uri": "https://localhost:8080/"
        }
      },
      "source": [
        "np.full(shape=(3, 3), fill_value=4, dtype='int')"
      ],
      "execution_count": 49,
      "outputs": [
        {
          "output_type": "execute_result",
          "data": {
            "text/plain": [
              "array([[4, 4, 4],\n",
              "       [4, 4, 4],\n",
              "       [4, 4, 4]])"
            ]
          },
          "metadata": {},
          "execution_count": 49
        }
      ]
    },
    {
      "cell_type": "code",
      "metadata": {
        "id": "tjkYWFPKe9zT",
        "outputId": "ab72a252-83dd-4677-e6b8-08dc394c0eea",
        "colab": {
          "base_uri": "https://localhost:8080/"
        }
      },
      "source": [
        "np.arange(10)"
      ],
      "execution_count": 50,
      "outputs": [
        {
          "output_type": "execute_result",
          "data": {
            "text/plain": [
              "array([0, 1, 2, 3, 4, 5, 6, 7, 8, 9])"
            ]
          },
          "metadata": {},
          "execution_count": 50
        }
      ]
    },
    {
      "cell_type": "code",
      "source": [
        "list(range(10))"
      ],
      "metadata": {
        "id": "pRk1ioUODVpg",
        "outputId": "23d5d8df-b0a3-4555-f7c0-5a3647a28e71",
        "colab": {
          "base_uri": "https://localhost:8080/"
        }
      },
      "execution_count": 52,
      "outputs": [
        {
          "output_type": "execute_result",
          "data": {
            "text/plain": [
              "[0, 1, 2, 3, 4, 5, 6, 7, 8, 9]"
            ]
          },
          "metadata": {},
          "execution_count": 52
        }
      ]
    },
    {
      "cell_type": "code",
      "metadata": {
        "id": "i6Xk5WeZfI6l",
        "outputId": "2f024a38-8324-482e-9124-b290b67e66bd",
        "colab": {
          "base_uri": "https://localhost:8080/"
        }
      },
      "source": [
        "np.arange(start=5, stop=10)"
      ],
      "execution_count": 53,
      "outputs": [
        {
          "output_type": "execute_result",
          "data": {
            "text/plain": [
              "array([5, 6, 7, 8, 9])"
            ]
          },
          "metadata": {},
          "execution_count": 53
        }
      ]
    },
    {
      "cell_type": "code",
      "source": [
        "np.arange(start=20, stop=75)"
      ],
      "metadata": {
        "id": "f7kZtDwyDs9J",
        "outputId": "7379a8fc-81b2-44a5-b0e6-29c1dcb69cd5",
        "colab": {
          "base_uri": "https://localhost:8080/"
        }
      },
      "execution_count": 54,
      "outputs": [
        {
          "output_type": "execute_result",
          "data": {
            "text/plain": [
              "array([20, 21, 22, 23, 24, 25, 26, 27, 28, 29, 30, 31, 32, 33, 34, 35, 36,\n",
              "       37, 38, 39, 40, 41, 42, 43, 44, 45, 46, 47, 48, 49, 50, 51, 52, 53,\n",
              "       54, 55, 56, 57, 58, 59, 60, 61, 62, 63, 64, 65, 66, 67, 68, 69, 70,\n",
              "       71, 72, 73, 74])"
            ]
          },
          "metadata": {},
          "execution_count": 54
        }
      ]
    },
    {
      "cell_type": "code",
      "metadata": {
        "id": "OtEt1whpfQTz",
        "outputId": "c0b517b7-7035-43da-ad0b-e6f5546a4fea",
        "colab": {
          "base_uri": "https://localhost:8080/"
        }
      },
      "source": [
        "np.arange(start=10, stop=100, step=10)"
      ],
      "execution_count": 55,
      "outputs": [
        {
          "output_type": "execute_result",
          "data": {
            "text/plain": [
              "array([10, 20, 30, 40, 50, 60, 70, 80, 90])"
            ]
          },
          "metadata": {},
          "execution_count": 55
        }
      ]
    },
    {
      "cell_type": "code",
      "source": [
        "np.arange(start=1, stop=30, step=3)"
      ],
      "metadata": {
        "id": "0QHn5TmRD836",
        "outputId": "39a5aeba-5835-4d0f-cdf1-2f028e9842d0",
        "colab": {
          "base_uri": "https://localhost:8080/"
        }
      },
      "execution_count": 57,
      "outputs": [
        {
          "output_type": "execute_result",
          "data": {
            "text/plain": [
              "array([ 1,  4,  7, 10, 13, 16, 19, 22, 25, 28])"
            ]
          },
          "metadata": {},
          "execution_count": 57
        }
      ]
    },
    {
      "cell_type": "code",
      "metadata": {
        "id": "6wLj_tHKfWTY",
        "outputId": "83b244fc-4053-4ebb-bf70-a6cb702c97ec",
        "colab": {
          "base_uri": "https://localhost:8080/",
          "height": 35
        }
      },
      "source": [
        "np.arange(start=100, stop=10, step=-10)"
      ],
      "execution_count": null,
      "outputs": [
        {
          "output_type": "execute_result",
          "data": {
            "text/plain": [
              "array([100,  90,  80,  70,  60,  50,  40,  30,  20])"
            ]
          },
          "metadata": {
            "tags": []
          },
          "execution_count": 52
        }
      ]
    },
    {
      "cell_type": "code",
      "source": [
        "np.arange(start=30, stop=1, step=-3)"
      ],
      "metadata": {
        "id": "oywb6-F8EfPE",
        "outputId": "9905a538-8d6a-4bc3-8af7-78a1107dd276",
        "colab": {
          "base_uri": "https://localhost:8080/"
        }
      },
      "execution_count": 58,
      "outputs": [
        {
          "output_type": "execute_result",
          "data": {
            "text/plain": [
              "array([30, 27, 24, 21, 18, 15, 12,  9,  6,  3])"
            ]
          },
          "metadata": {},
          "execution_count": 58
        }
      ]
    },
    {
      "cell_type": "code",
      "metadata": {
        "id": "RzRRAqjRfdOE",
        "outputId": "03ef9d19-ad74-4de7-cdea-de00d7cdbb14",
        "colab": {
          "base_uri": "https://localhost:8080/",
          "height": 52
        }
      },
      "source": [
        "np.arange(start=0, stop=1, step=0.05)"
      ],
      "execution_count": null,
      "outputs": [
        {
          "output_type": "execute_result",
          "data": {
            "text/plain": [
              "array([0.  , 0.05, 0.1 , 0.15, 0.2 , 0.25, 0.3 , 0.35, 0.4 , 0.45, 0.5 ,\n",
              "       0.55, 0.6 , 0.65, 0.7 , 0.75, 0.8 , 0.85, 0.9 , 0.95])"
            ]
          },
          "metadata": {
            "tags": []
          },
          "execution_count": 53
        }
      ]
    },
    {
      "cell_type": "code",
      "source": [
        "np.arange(start=1, stop=10, step=2.5)"
      ],
      "metadata": {
        "id": "AaXMDfJvE6nW",
        "outputId": "02323f6d-1009-47d5-8cdc-17edb8f391c6",
        "colab": {
          "base_uri": "https://localhost:8080/"
        }
      },
      "execution_count": 59,
      "outputs": [
        {
          "output_type": "execute_result",
          "data": {
            "text/plain": [
              "array([1. , 3.5, 6. , 8.5])"
            ]
          },
          "metadata": {},
          "execution_count": 59
        }
      ]
    },
    {
      "cell_type": "code",
      "metadata": {
        "id": "7aLtoDX2fmKG",
        "outputId": "a1cf2455-d22a-4ed4-dfb5-6a012efef1b0",
        "colab": {
          "base_uri": "https://localhost:8080/",
          "height": 35
        }
      },
      "source": [
        "np.linspace(start=0, stop=1, num=11)"
      ],
      "execution_count": null,
      "outputs": [
        {
          "output_type": "execute_result",
          "data": {
            "text/plain": [
              "array([0. , 0.1, 0.2, 0.3, 0.4, 0.5, 0.6, 0.7, 0.8, 0.9, 1. ])"
            ]
          },
          "metadata": {
            "tags": []
          },
          "execution_count": 55
        }
      ]
    },
    {
      "cell_type": "code",
      "source": [
        "np.linspace(start=1, stop=30, num=3)"
      ],
      "metadata": {
        "id": "6MlZ3rJYFZzq",
        "outputId": "e1364ec1-cfe8-4506-8ed6-09c47c10dd6d",
        "colab": {
          "base_uri": "https://localhost:8080/"
        }
      },
      "execution_count": 69,
      "outputs": [
        {
          "output_type": "execute_result",
          "data": {
            "text/plain": [
              "array([ 1. , 15.5, 30. ])"
            ]
          },
          "metadata": {},
          "execution_count": 69
        },
        {
          "output_type": "execute_result",
          "data": {
            "text/plain": [
              "array([ 1. , 15.5, 30. ])"
            ]
          },
          "metadata": {},
          "execution_count": 70
        }
      ]
    },
    {
      "cell_type": "code",
      "metadata": {
        "id": "E5J8GDVafyCp",
        "outputId": "0b5a123e-116d-4a92-9b6b-34300a3baaee",
        "colab": {
          "base_uri": "https://localhost:8080/"
        }
      },
      "source": [
        "A = np.arange(15)\n",
        "A"
      ],
      "execution_count": 71,
      "outputs": [
        {
          "output_type": "execute_result",
          "data": {
            "text/plain": [
              "array([ 0,  1,  2,  3,  4,  5,  6,  7,  8,  9, 10, 11, 12, 13, 14])"
            ]
          },
          "metadata": {},
          "execution_count": 71
        }
      ]
    },
    {
      "cell_type": "code",
      "metadata": {
        "id": "1A6Ce-TKf3fB",
        "outputId": "61f8c6eb-0498-4125-d6a5-ec2bf87678d2",
        "colab": {
          "base_uri": "https://localhost:8080/"
        }
      },
      "source": [
        "A.reshape((3, 5))"
      ],
      "execution_count": 72,
      "outputs": [
        {
          "output_type": "execute_result",
          "data": {
            "text/plain": [
              "array([[ 0,  1,  2,  3,  4],\n",
              "       [ 5,  6,  7,  8,  9],\n",
              "       [10, 11, 12, 13, 14]])"
            ]
          },
          "metadata": {},
          "execution_count": 72
        }
      ]
    },
    {
      "cell_type": "code",
      "source": [
        "A.reshape((5, 3))"
      ],
      "metadata": {
        "id": "pBsUXcxyKm7s",
        "outputId": "0ecdc7dc-f70e-46d7-a076-67b6c36b76b8",
        "colab": {
          "base_uri": "https://localhost:8080/"
        }
      },
      "execution_count": 73,
      "outputs": [
        {
          "output_type": "execute_result",
          "data": {
            "text/plain": [
              "array([[ 0,  1,  2],\n",
              "       [ 3,  4,  5],\n",
              "       [ 6,  7,  8],\n",
              "       [ 9, 10, 11],\n",
              "       [12, 13, 14]])"
            ]
          },
          "metadata": {},
          "execution_count": 73
        }
      ]
    },
    {
      "cell_type": "code",
      "metadata": {
        "id": "tB3-dSyMgBoO",
        "outputId": "482a82d3-1e87-42ef-e216-840e4de2b137",
        "colab": {
          "base_uri": "https://localhost:8080/",
          "height": 69
        }
      },
      "source": [
        "A.reshape((3, -1))"
      ],
      "execution_count": null,
      "outputs": [
        {
          "output_type": "execute_result",
          "data": {
            "text/plain": [
              "array([[ 0,  1,  2,  3,  4],\n",
              "       [ 5,  6,  7,  8,  9],\n",
              "       [10, 11, 12, 13, 14]])"
            ]
          },
          "metadata": {
            "tags": []
          },
          "execution_count": 58
        }
      ]
    },
    {
      "cell_type": "code",
      "source": [
        "A.reshape((5, -1))"
      ],
      "metadata": {
        "id": "AZyrJRIWK3u-",
        "outputId": "d770c8d6-76d5-41ac-d2b3-1c6c3c7d9497",
        "colab": {
          "base_uri": "https://localhost:8080/"
        }
      },
      "execution_count": 74,
      "outputs": [
        {
          "output_type": "execute_result",
          "data": {
            "text/plain": [
              "array([[ 0,  1,  2],\n",
              "       [ 3,  4,  5],\n",
              "       [ 6,  7,  8],\n",
              "       [ 9, 10, 11],\n",
              "       [12, 13, 14]])"
            ]
          },
          "metadata": {},
          "execution_count": 74
        }
      ]
    },
    {
      "cell_type": "code",
      "metadata": {
        "id": "EQHJAdRIgJE7",
        "outputId": "f421d51f-8c8c-4f5f-c6c5-13b4b44450f6",
        "colab": {
          "base_uri": "https://localhost:8080/",
          "height": 104
        }
      },
      "source": [
        "A.reshape((-1, 3))"
      ],
      "execution_count": null,
      "outputs": [
        {
          "output_type": "execute_result",
          "data": {
            "text/plain": [
              "array([[ 0,  1,  2],\n",
              "       [ 3,  4,  5],\n",
              "       [ 6,  7,  8],\n",
              "       [ 9, 10, 11],\n",
              "       [12, 13, 14]])"
            ]
          },
          "metadata": {
            "tags": []
          },
          "execution_count": 59
        }
      ]
    },
    {
      "cell_type": "code",
      "source": [
        "A.reshape((5, -1))"
      ],
      "metadata": {
        "id": "tkuAgx-FLBan",
        "outputId": "6e00eec4-990e-412b-8422-f0912314ec32",
        "colab": {
          "base_uri": "https://localhost:8080/"
        }
      },
      "execution_count": 75,
      "outputs": [
        {
          "output_type": "execute_result",
          "data": {
            "text/plain": [
              "array([[ 0,  1,  2],\n",
              "       [ 3,  4,  5],\n",
              "       [ 6,  7,  8],\n",
              "       [ 9, 10, 11],\n",
              "       [12, 13, 14]])"
            ]
          },
          "metadata": {},
          "execution_count": 75
        }
      ]
    },
    {
      "cell_type": "markdown",
      "metadata": {
        "id": "EyXM5Qfi5gfR"
      },
      "source": [
        "### <a name='a4'></a> Podstawowe operacje na tablicach"
      ]
    },
    {
      "cell_type": "code",
      "metadata": {
        "id": "K95rVbtvpGMG",
        "outputId": "bf809e42-3b54-448c-ec36-05ba2378d81e",
        "colab": {
          "base_uri": "https://localhost:8080/"
        }
      },
      "source": [
        "A = np.array([3, 1, 4, 2])\n",
        "B = np.array([3, -1, 3, 2])\n",
        "print(A)\n",
        "print(B)"
      ],
      "execution_count": 76,
      "outputs": [
        {
          "output_type": "stream",
          "name": "stdout",
          "text": [
            "[3 1 4 2]\n",
            "[ 3 -1  3  2]\n"
          ]
        }
      ]
    },
    {
      "cell_type": "code",
      "metadata": {
        "id": "bYFJjd6vpQHL",
        "outputId": "f5962401-5385-4de3-d920-2d2d68a4d6e0",
        "colab": {
          "base_uri": "https://localhost:8080/"
        }
      },
      "source": [
        "A + B"
      ],
      "execution_count": 77,
      "outputs": [
        {
          "output_type": "execute_result",
          "data": {
            "text/plain": [
              "array([6, 0, 7, 4])"
            ]
          },
          "metadata": {},
          "execution_count": 77
        }
      ]
    },
    {
      "cell_type": "code",
      "metadata": {
        "id": "Z5_EnHIwpX-J",
        "outputId": "b8af5980-12ca-4c13-c2b4-80ded11115b1",
        "colab": {
          "base_uri": "https://localhost:8080/"
        }
      },
      "source": [
        "A - B"
      ],
      "execution_count": 80,
      "outputs": [
        {
          "output_type": "execute_result",
          "data": {
            "text/plain": [
              "array([0, 2, 1, 0])"
            ]
          },
          "metadata": {},
          "execution_count": 80
        }
      ]
    },
    {
      "cell_type": "code",
      "metadata": {
        "id": "rsnfzhUKpZ4X",
        "outputId": "157a345c-c520-46a9-aeaf-89b13f60c1aa",
        "colab": {
          "base_uri": "https://localhost:8080/"
        }
      },
      "source": [
        "A * B"
      ],
      "execution_count": 81,
      "outputs": [
        {
          "output_type": "execute_result",
          "data": {
            "text/plain": [
              "array([ 9, -1, 12,  4])"
            ]
          },
          "metadata": {},
          "execution_count": 81
        }
      ]
    },
    {
      "cell_type": "code",
      "metadata": {
        "id": "0oJLApSVpdt-",
        "outputId": "1821822a-250c-49a6-ef29-2a368f1c8028",
        "colab": {
          "base_uri": "https://localhost:8080/"
        }
      },
      "source": [
        "A / B"
      ],
      "execution_count": 82,
      "outputs": [
        {
          "output_type": "execute_result",
          "data": {
            "text/plain": [
              "array([ 1.        , -1.        ,  1.33333333,  1.        ])"
            ]
          },
          "metadata": {},
          "execution_count": 82
        }
      ]
    },
    {
      "cell_type": "code",
      "source": [
        "A + 3"
      ],
      "metadata": {
        "id": "JncWVlOcMQEP",
        "outputId": "556b18c1-8daa-48b9-a8a9-e68c01b28cf3",
        "colab": {
          "base_uri": "https://localhost:8080/"
        }
      },
      "execution_count": 83,
      "outputs": [
        {
          "output_type": "execute_result",
          "data": {
            "text/plain": [
              "array([6, 4, 7, 5])"
            ]
          },
          "metadata": {},
          "execution_count": 83
        }
      ]
    },
    {
      "cell_type": "code",
      "source": [
        "A - 1"
      ],
      "metadata": {
        "id": "LOXx98h4MUbp",
        "outputId": "05126158-2b1e-4bd5-95a3-d8464064c89d",
        "colab": {
          "base_uri": "https://localhost:8080/"
        }
      },
      "execution_count": 85,
      "outputs": [
        {
          "output_type": "execute_result",
          "data": {
            "text/plain": [
              "array([2, 0, 3, 1])"
            ]
          },
          "metadata": {},
          "execution_count": 85
        }
      ]
    },
    {
      "cell_type": "code",
      "source": [
        "A * 2"
      ],
      "metadata": {
        "id": "syQiCjbRMxWT",
        "outputId": "8084b456-8960-4f96-f2d7-6d02f9d0324c",
        "colab": {
          "base_uri": "https://localhost:8080/"
        }
      },
      "execution_count": 86,
      "outputs": [
        {
          "output_type": "execute_result",
          "data": {
            "text/plain": [
              "array([6, 2, 8, 4])"
            ]
          },
          "metadata": {},
          "execution_count": 86
        }
      ]
    },
    {
      "cell_type": "code",
      "source": [
        "A/2"
      ],
      "metadata": {
        "id": "XZMTzy56M2IK",
        "outputId": "f97b0743-987d-4cf4-c010-bc82d5f3e256",
        "colab": {
          "base_uri": "https://localhost:8080/"
        }
      },
      "execution_count": 87,
      "outputs": [
        {
          "output_type": "execute_result",
          "data": {
            "text/plain": [
              "array([1.5, 0.5, 2. , 1. ])"
            ]
          },
          "metadata": {},
          "execution_count": 87
        }
      ]
    },
    {
      "cell_type": "code",
      "source": [
        "A + 3 * B"
      ],
      "metadata": {
        "id": "HA84Gdl2NJfX",
        "outputId": "13108f70-61e7-4d57-c1ee-9c79c20888c5",
        "colab": {
          "base_uri": "https://localhost:8080/"
        }
      },
      "execution_count": 88,
      "outputs": [
        {
          "output_type": "execute_result",
          "data": {
            "text/plain": [
              "array([12, -2, 13,  8])"
            ]
          },
          "metadata": {},
          "execution_count": 88
        }
      ]
    },
    {
      "cell_type": "code",
      "metadata": {
        "id": "EIDUP8Jbp1zy",
        "outputId": "bb7c44ed-6d56-4acb-939b-6bec38db7132",
        "colab": {
          "base_uri": "https://localhost:8080/"
        }
      },
      "source": [
        "np.add(A, B)"
      ],
      "execution_count": 89,
      "outputs": [
        {
          "output_type": "execute_result",
          "data": {
            "text/plain": [
              "array([6, 0, 7, 4])"
            ]
          },
          "metadata": {},
          "execution_count": 89
        }
      ]
    },
    {
      "cell_type": "code",
      "source": [
        "np.add(B, A)"
      ],
      "metadata": {
        "id": "5O9XY4DmNdnI",
        "outputId": "49620228-5477-4e9f-b405-2e10dad98d91",
        "colab": {
          "base_uri": "https://localhost:8080/"
        }
      },
      "execution_count": 93,
      "outputs": [
        {
          "output_type": "execute_result",
          "data": {
            "text/plain": [
              "array([6, 0, 7, 4])"
            ]
          },
          "metadata": {},
          "execution_count": 93
        }
      ]
    },
    {
      "cell_type": "code",
      "metadata": {
        "id": "J71l8WJsp4kI",
        "outputId": "134962cf-1331-4537-b015-dca5e01fa965",
        "colab": {
          "base_uri": "https://localhost:8080/"
        }
      },
      "source": [
        "np.subtract(A, B)"
      ],
      "execution_count": 90,
      "outputs": [
        {
          "output_type": "execute_result",
          "data": {
            "text/plain": [
              "array([0, 2, 1, 0])"
            ]
          },
          "metadata": {},
          "execution_count": 90
        }
      ]
    },
    {
      "cell_type": "code",
      "source": [
        "np.subtract(B, A)"
      ],
      "metadata": {
        "id": "nkA0bH8gNzXU",
        "outputId": "d6cbbf54-e4f4-47a9-9bd1-13446e8db454",
        "colab": {
          "base_uri": "https://localhost:8080/"
        }
      },
      "execution_count": 96,
      "outputs": [
        {
          "output_type": "execute_result",
          "data": {
            "text/plain": [
              "array([ 0, -2, -1,  0])"
            ]
          },
          "metadata": {},
          "execution_count": 96
        }
      ]
    },
    {
      "cell_type": "code",
      "metadata": {
        "id": "QVpq3hgOp64O",
        "outputId": "2d7801e7-b8e6-4926-8adc-39f797899a4e",
        "colab": {
          "base_uri": "https://localhost:8080/"
        }
      },
      "source": [
        "np.multiply(A, B)"
      ],
      "execution_count": 91,
      "outputs": [
        {
          "output_type": "execute_result",
          "data": {
            "text/plain": [
              "array([ 9, -1, 12,  4])"
            ]
          },
          "metadata": {},
          "execution_count": 91
        }
      ]
    },
    {
      "cell_type": "code",
      "metadata": {
        "id": "PI_WB05Op-Ur",
        "outputId": "77ba1b72-de2d-4382-9475-94910584226a",
        "colab": {
          "base_uri": "https://localhost:8080/"
        }
      },
      "source": [
        "np.divide(A, B)"
      ],
      "execution_count": 92,
      "outputs": [
        {
          "output_type": "execute_result",
          "data": {
            "text/plain": [
              "array([ 1.        , -1.        ,  1.33333333,  1.        ])"
            ]
          },
          "metadata": {},
          "execution_count": 92
        }
      ]
    },
    {
      "cell_type": "code",
      "source": [
        "np.divide(B, A)"
      ],
      "metadata": {
        "id": "OlstU7hiNopu",
        "outputId": "99d586f7-f666-46c0-a7fe-2a5c0bf5a898",
        "colab": {
          "base_uri": "https://localhost:8080/"
        }
      },
      "execution_count": 95,
      "outputs": [
        {
          "output_type": "execute_result",
          "data": {
            "text/plain": [
              "array([ 1.  , -1.  ,  0.75,  1.  ])"
            ]
          },
          "metadata": {},
          "execution_count": 95
        }
      ]
    },
    {
      "cell_type": "code",
      "metadata": {
        "id": "AwR-SQvzpjb7",
        "outputId": "cf5e3bd6-f640-4cb9-8a00-4bea5dfae17a",
        "colab": {
          "base_uri": "https://localhost:8080/",
          "height": 35
        }
      },
      "source": [
        "A + 3"
      ],
      "execution_count": null,
      "outputs": [
        {
          "output_type": "execute_result",
          "data": {
            "text/plain": [
              "array([6, 4, 7, 5])"
            ]
          },
          "metadata": {
            "tags": []
          },
          "execution_count": 65
        }
      ]
    },
    {
      "cell_type": "code",
      "metadata": {
        "id": "xsjUnsseproA",
        "outputId": "b65b9dcc-918b-4656-f093-f3df82d6e404",
        "colab": {
          "base_uri": "https://localhost:8080/",
          "height": 35
        }
      },
      "source": [
        "2 * A"
      ],
      "execution_count": null,
      "outputs": [
        {
          "output_type": "execute_result",
          "data": {
            "text/plain": [
              "array([6, 2, 8, 4])"
            ]
          },
          "metadata": {
            "tags": []
          },
          "execution_count": 66
        }
      ]
    },
    {
      "cell_type": "code",
      "metadata": {
        "id": "Z46Mb0pipvc6",
        "outputId": "5e36859c-7801-4318-fc01-836de2a5f372",
        "colab": {
          "base_uri": "https://localhost:8080/",
          "height": 35
        }
      },
      "source": [
        "A + 3*B"
      ],
      "execution_count": null,
      "outputs": [
        {
          "output_type": "execute_result",
          "data": {
            "text/plain": [
              "array([12, -2, 13,  8])"
            ]
          },
          "metadata": {
            "tags": []
          },
          "execution_count": 67
        }
      ]
    },
    {
      "cell_type": "code",
      "metadata": {
        "id": "-56cLPk2pynF",
        "outputId": "6839fe5e-a5ba-49c1-c6c6-442d5a81ac93",
        "colab": {
          "base_uri": "https://localhost:8080/"
        }
      },
      "source": [
        "X = np.array([[1, 3], [-2, 0]])\n",
        "Y = np.array([[6, 0], [-1, 2]])\n",
        "print(X, '\\n')\n",
        "print(Y)"
      ],
      "execution_count": 97,
      "outputs": [
        {
          "output_type": "stream",
          "name": "stdout",
          "text": [
            "[[ 1  3]\n",
            " [-2  0]] \n",
            "\n",
            "[[ 6  0]\n",
            " [-1  2]]\n"
          ]
        }
      ]
    },
    {
      "cell_type": "code",
      "metadata": {
        "id": "OkdZ1E3wqXkz",
        "outputId": "accc7ca6-1c5c-4f9c-9661-0d04d2edd8b8",
        "colab": {
          "base_uri": "https://localhost:8080/"
        }
      },
      "source": [
        "X * Y"
      ],
      "execution_count": 98,
      "outputs": [
        {
          "output_type": "execute_result",
          "data": {
            "text/plain": [
              "array([[6, 0],\n",
              "       [2, 0]])"
            ]
          },
          "metadata": {},
          "execution_count": 98
        }
      ]
    },
    {
      "cell_type": "code",
      "metadata": {
        "id": "yYxx6HZgqjqk",
        "outputId": "34b8866e-7191-441b-d60e-c37906bebada",
        "colab": {
          "base_uri": "https://localhost:8080/"
        }
      },
      "source": [
        "np.dot(X, Y)"
      ],
      "execution_count": 99,
      "outputs": [
        {
          "output_type": "execute_result",
          "data": {
            "text/plain": [
              "array([[  3,   6],\n",
              "       [-12,   0]])"
            ]
          },
          "metadata": {},
          "execution_count": 99
        }
      ]
    },
    {
      "cell_type": "code",
      "source": [
        "np.dot(Y, X)"
      ],
      "metadata": {
        "id": "1Mk79-F3SuXX",
        "outputId": "db37dbec-c23d-4077-b203-740dc378b840",
        "colab": {
          "base_uri": "https://localhost:8080/"
        }
      },
      "execution_count": 100,
      "outputs": [
        {
          "output_type": "execute_result",
          "data": {
            "text/plain": [
              "array([[ 6, 18],\n",
              "       [-5, -3]])"
            ]
          },
          "metadata": {},
          "execution_count": 100
        }
      ]
    },
    {
      "cell_type": "code",
      "metadata": {
        "id": "LRxTNcTAqv1O",
        "outputId": "7ca3ac7c-a87c-4808-f649-803b5a18fc92",
        "colab": {
          "base_uri": "https://localhost:8080/"
        }
      },
      "source": [
        "X.dot(Y)"
      ],
      "execution_count": 101,
      "outputs": [
        {
          "output_type": "execute_result",
          "data": {
            "text/plain": [
              "array([[  3,   6],\n",
              "       [-12,   0]])"
            ]
          },
          "metadata": {},
          "execution_count": 101
        }
      ]
    },
    {
      "cell_type": "code",
      "metadata": {
        "id": "YvTf40EsqzEp",
        "outputId": "c4b66dbe-8762-41aa-998c-9635b950034e",
        "colab": {
          "base_uri": "https://localhost:8080/"
        }
      },
      "source": [
        "Y.dot(X)"
      ],
      "execution_count": 102,
      "outputs": [
        {
          "output_type": "execute_result",
          "data": {
            "text/plain": [
              "array([[ 6, 18],\n",
              "       [-5, -3]])"
            ]
          },
          "metadata": {},
          "execution_count": 102
        }
      ]
    },
    {
      "cell_type": "code",
      "metadata": {
        "id": "ZrOG-Mfiq2Vn",
        "outputId": "7fb4fc50-2383-4116-d12c-5f2aa6ce73c3",
        "colab": {
          "base_uri": "https://localhost:8080/"
        }
      },
      "source": [
        "X @ Y"
      ],
      "execution_count": 103,
      "outputs": [
        {
          "output_type": "execute_result",
          "data": {
            "text/plain": [
              "array([[  3,   6],\n",
              "       [-12,   0]])"
            ]
          },
          "metadata": {},
          "execution_count": 103
        }
      ]
    },
    {
      "cell_type": "markdown",
      "metadata": {
        "id": "lJEtsLBt8VTS"
      },
      "source": [
        "### <a name='a5'></a>  Generowanie liczb pseudolosowych"
      ]
    },
    {
      "cell_type": "code",
      "metadata": {
        "id": "RNe18NQvsgAX"
      },
      "source": [
        "np.random.seed(0)"
      ],
      "execution_count": 104,
      "outputs": []
    },
    {
      "cell_type": "code",
      "metadata": {
        "id": "Jj0FPV3FsoId",
        "outputId": "8bee6a67-f012-4357-efae-199e70d6ec3a",
        "colab": {
          "base_uri": "https://localhost:8080/"
        }
      },
      "source": [
        "np.random.randn()"
      ],
      "execution_count": 105,
      "outputs": [
        {
          "output_type": "execute_result",
          "data": {
            "text/plain": [
              "1.764052345967664"
            ]
          },
          "metadata": {},
          "execution_count": 105
        }
      ]
    },
    {
      "cell_type": "code",
      "metadata": {
        "id": "TT49RSTuswVs",
        "outputId": "d0421cdb-7743-4f52-b9ba-16beb449eb90",
        "colab": {
          "base_uri": "https://localhost:8080/"
        }
      },
      "source": [
        "np.random.randn(10)"
      ],
      "execution_count": 106,
      "outputs": [
        {
          "output_type": "execute_result",
          "data": {
            "text/plain": [
              "array([ 0.40015721,  0.97873798,  2.2408932 ,  1.86755799, -0.97727788,\n",
              "        0.95008842, -0.15135721, -0.10321885,  0.4105985 ,  0.14404357])"
            ]
          },
          "metadata": {},
          "execution_count": 106
        }
      ]
    },
    {
      "cell_type": "code",
      "source": [
        "np.random.randn(100)"
      ],
      "metadata": {
        "id": "rMx8PvIOVGEM",
        "outputId": "6c2b0fd0-72b8-4de5-c6b7-626bcbd13d3a",
        "colab": {
          "base_uri": "https://localhost:8080/"
        }
      },
      "execution_count": 107,
      "outputs": [
        {
          "output_type": "execute_result",
          "data": {
            "text/plain": [
              "array([ 1.45427351,  0.76103773,  0.12167502,  0.44386323,  0.33367433,\n",
              "        1.49407907, -0.20515826,  0.3130677 , -0.85409574, -2.55298982,\n",
              "        0.6536186 ,  0.8644362 , -0.74216502,  2.26975462, -1.45436567,\n",
              "        0.04575852, -0.18718385,  1.53277921,  1.46935877,  0.15494743,\n",
              "        0.37816252, -0.88778575, -1.98079647, -0.34791215,  0.15634897,\n",
              "        1.23029068,  1.20237985, -0.38732682, -0.30230275, -1.04855297,\n",
              "       -1.42001794, -1.70627019,  1.9507754 , -0.50965218, -0.4380743 ,\n",
              "       -1.25279536,  0.77749036, -1.61389785, -0.21274028, -0.89546656,\n",
              "        0.3869025 , -0.51080514, -1.18063218, -0.02818223,  0.42833187,\n",
              "        0.06651722,  0.3024719 , -0.63432209, -0.36274117, -0.67246045,\n",
              "       -0.35955316, -0.81314628, -1.7262826 ,  0.17742614, -0.40178094,\n",
              "       -1.63019835,  0.46278226, -0.90729836,  0.0519454 ,  0.72909056,\n",
              "        0.12898291,  1.13940068, -1.23482582,  0.40234164, -0.68481009,\n",
              "       -0.87079715, -0.57884966, -0.31155253,  0.05616534, -1.16514984,\n",
              "        0.90082649,  0.46566244, -1.53624369,  1.48825219,  1.89588918,\n",
              "        1.17877957, -0.17992484, -1.07075262,  1.05445173, -0.40317695,\n",
              "        1.22244507,  0.20827498,  0.97663904,  0.3563664 ,  0.70657317,\n",
              "        0.01050002,  1.78587049,  0.12691209,  0.40198936,  1.8831507 ,\n",
              "       -1.34775906, -1.270485  ,  0.96939671, -1.17312341,  1.94362119,\n",
              "       -0.41361898, -0.74745481,  1.92294203,  1.48051479,  1.86755896])"
            ]
          },
          "metadata": {},
          "execution_count": 107
        }
      ]
    },
    {
      "cell_type": "code",
      "metadata": {
        "id": "vfe9lZ2gs1Zy",
        "outputId": "51ba2f9f-ece2-450b-c13b-4c0cf21d1e2d",
        "colab": {
          "base_uri": "https://localhost:8080/",
          "height": 191
        }
      },
      "source": [
        "np.random.randn(10, 4)"
      ],
      "execution_count": null,
      "outputs": [
        {
          "output_type": "execute_result",
          "data": {
            "text/plain": [
              "array([[ 1.45427351,  0.76103773,  0.12167502,  0.44386323],\n",
              "       [ 0.33367433,  1.49407907, -0.20515826,  0.3130677 ],\n",
              "       [-0.85409574, -2.55298982,  0.6536186 ,  0.8644362 ],\n",
              "       [-0.74216502,  2.26975462, -1.45436567,  0.04575852],\n",
              "       [-0.18718385,  1.53277921,  1.46935877,  0.15494743],\n",
              "       [ 0.37816252, -0.88778575, -1.98079647, -0.34791215],\n",
              "       [ 0.15634897,  1.23029068,  1.20237985, -0.38732682],\n",
              "       [-0.30230275, -1.04855297, -1.42001794, -1.70627019],\n",
              "       [ 1.9507754 , -0.50965218, -0.4380743 , -1.25279536],\n",
              "       [ 0.77749036, -1.61389785, -0.21274028, -0.89546656]])"
            ]
          },
          "metadata": {
            "tags": []
          },
          "execution_count": 83
        }
      ]
    },
    {
      "cell_type": "code",
      "source": [
        "np.random.randn(100, 10)"
      ],
      "metadata": {
        "id": "iwy2wuHfVUwm",
        "outputId": "c0cde462-13f7-4dea-9e37-82e0cb5bbc73",
        "colab": {
          "base_uri": "https://localhost:8080/"
        }
      },
      "execution_count": 108,
      "outputs": [
        {
          "output_type": "execute_result",
          "data": {
            "text/plain": [
              "array([[ 9.06044658e-01, -8.61225685e-01,  1.91006495e+00,\n",
              "        -2.68003371e-01,  8.02456396e-01,  9.47251968e-01,\n",
              "        -1.55010093e-01,  6.14079370e-01,  9.22206672e-01,\n",
              "         3.76425531e-01],\n",
              "       [-1.09940079e+00,  2.98238174e-01,  1.32638590e+00,\n",
              "        -6.94567860e-01, -1.49634540e-01, -4.35153552e-01,\n",
              "         1.84926373e+00,  6.72294757e-01,  4.07461836e-01,\n",
              "        -7.69916074e-01],\n",
              "       [ 5.39249191e-01, -6.74332661e-01,  3.18305583e-02,\n",
              "        -6.35846078e-01,  6.76433295e-01,  5.76590817e-01,\n",
              "        -2.08298756e-01,  3.96006713e-01, -1.09306151e+00,\n",
              "        -1.49125759e+00],\n",
              "       [ 4.39391701e-01,  1.66673495e-01,  6.35031437e-01,\n",
              "         2.38314477e+00,  9.44479487e-01, -9.12822225e-01,\n",
              "         1.11701629e+00, -1.31590741e+00, -4.61584605e-01,\n",
              "        -6.82416053e-02],\n",
              "       [ 1.71334272e+00, -7.44754822e-01, -8.26438539e-01,\n",
              "        -9.84525244e-02, -6.63478286e-01,  1.12663592e+00,\n",
              "        -1.07993151e+00, -1.14746865e+00, -4.37820045e-01,\n",
              "        -4.98032451e-01],\n",
              "       [ 1.92953205e+00,  9.49420807e-01,  8.75512414e-02,\n",
              "        -1.22543552e+00,  8.44362976e-01, -1.00021535e+00,\n",
              "        -1.54477110e+00,  1.18802979e+00,  3.16942612e-01,\n",
              "         9.20858824e-01],\n",
              "       [ 3.18727653e-01,  8.56830612e-01, -6.51025593e-01,\n",
              "        -1.03424284e+00,  6.81594518e-01, -8.03409664e-01,\n",
              "        -6.89549778e-01, -4.55532504e-01,  1.74791590e-02,\n",
              "        -3.53993911e-01],\n",
              "       [-1.37495129e+00, -6.43618403e-01, -2.22340315e+00,\n",
              "         6.25231451e-01, -1.60205766e+00, -1.10438334e+00,\n",
              "         5.21650793e-02, -7.39562996e-01,  1.54301460e+00,\n",
              "        -1.29285691e+00],\n",
              "       [ 2.67050869e-01, -3.92828182e-02, -1.16809350e+00,\n",
              "         5.23276661e-01, -1.71546331e-01,  7.71790551e-01,\n",
              "         8.23504154e-01,  2.16323595e+00,  1.33652795e+00,\n",
              "        -3.69181838e-01],\n",
              "       [-2.39379178e-01,  1.09965960e+00,  6.55263731e-01,\n",
              "         6.40131526e-01, -1.61695604e+00, -2.43261244e-02,\n",
              "        -7.38030909e-01,  2.79924599e-01, -9.81503896e-02,\n",
              "         9.10178908e-01],\n",
              "       [ 3.17218215e-01,  7.86327962e-01, -4.66419097e-01,\n",
              "        -9.44446256e-01, -4.10049693e-01, -1.70204139e-02,\n",
              "         3.79151736e-01,  2.25930895e+00, -4.22571517e-02,\n",
              "        -9.55945000e-01],\n",
              "       [-3.45981776e-01, -4.63595975e-01,  4.81481474e-01,\n",
              "        -1.54079701e+00,  6.32619942e-02,  1.56506538e-01,\n",
              "         2.32181036e-01, -5.97316069e-01, -2.37921730e-01,\n",
              "        -1.42406091e+00],\n",
              "       [-4.93319883e-01, -5.42861476e-01,  4.16050046e-01,\n",
              "        -1.15618243e+00,  7.81198102e-01,  1.49448454e+00,\n",
              "        -2.06998503e+00,  4.26258731e-01,  6.76908035e-01,\n",
              "        -6.37437026e-01],\n",
              "       [-3.97271814e-01, -1.32880578e-01, -2.97790879e-01,\n",
              "        -3.09012969e-01, -1.67600381e+00,  1.15233156e+00,\n",
              "         1.07961859e+00, -8.13364259e-01, -1.46642433e+00,\n",
              "         5.21064876e-01],\n",
              "       [-5.75787970e-01,  1.41953163e-01, -3.19328417e-01,\n",
              "         6.91538751e-01,  6.94749144e-01, -7.25597378e-01,\n",
              "        -1.38336396e+00, -1.58293840e+00,  6.10379379e-01,\n",
              "        -1.18885926e+00],\n",
              "       [-5.06816354e-01, -5.96314038e-01, -5.25672963e-02,\n",
              "        -1.93627981e+00,  1.88778597e-01,  5.23891024e-01,\n",
              "         8.84220870e-02, -3.10886172e-01,  9.74001663e-02,\n",
              "         3.99046346e-01],\n",
              "       [-2.77259276e+00,  1.95591231e+00,  3.90093323e-01,\n",
              "        -6.52408582e-01, -3.90953375e-01,  4.93741777e-01,\n",
              "        -1.16103939e-01, -2.03068447e+00,  2.06449286e+00,\n",
              "        -1.10540657e-01],\n",
              "       [ 1.02017271e+00, -6.92049848e-01,  1.53637705e+00,\n",
              "         2.86343689e-01,  6.08843834e-01, -1.04525337e+00,\n",
              "         1.21114529e+00,  6.89818165e-01,  1.30184623e+00,\n",
              "        -6.28087560e-01],\n",
              "       [-4.81027118e-01,  2.30391670e+00, -1.06001582e+00,\n",
              "        -1.35949701e-01,  1.13689136e+00,  9.77249677e-02,\n",
              "         5.82953680e-01, -3.99449029e-01,  3.70055888e-01,\n",
              "        -1.30652685e+00],\n",
              "       [ 1.65813068e+00, -1.18164045e-01, -6.80178204e-01,\n",
              "         6.66383082e-01, -4.60719787e-01, -1.33425847e+00,\n",
              "        -1.34671751e+00,  6.93773153e-01, -1.59573438e-01,\n",
              "        -1.33701560e-01],\n",
              "       [ 1.07774381e+00, -1.12682581e+00, -7.30677753e-01,\n",
              "        -3.84879809e-01,  9.43515893e-02, -4.21714513e-02,\n",
              "        -2.86887192e-01, -6.16264021e-02, -1.07305276e-01,\n",
              "        -7.19604389e-01],\n",
              "       [-8.12992989e-01,  2.74516358e-01, -8.90915083e-01,\n",
              "        -1.15735526e+00, -3.12292251e-01, -1.57667016e-01,\n",
              "         2.25672350e+00, -7.04700276e-01,  9.43260725e-01,\n",
              "         7.47188334e-01],\n",
              "       [-1.18894496e+00,  7.73252977e-01, -1.18388064e+00,\n",
              "        -2.65917224e+00,  6.06319524e-01, -1.75589058e+00,\n",
              "         4.50934462e-01, -6.84010898e-01,  1.65955080e+00,\n",
              "         1.06850940e+00],\n",
              "       [-4.53385804e-01, -6.87837611e-01, -1.21407740e+00,\n",
              "        -4.40922632e-01, -2.80355495e-01, -3.64693544e-01,\n",
              "         1.56703855e-01,  5.78521498e-01,  3.49654457e-01,\n",
              "        -7.64143924e-01],\n",
              "       [-1.43779147e+00,  1.36453185e+00, -6.89449185e-01,\n",
              "        -6.52293600e-01, -5.21189312e-01, -1.84306955e+00,\n",
              "        -4.77974004e-01, -4.79655814e-01,  6.20358298e-01,\n",
              "         6.98457149e-01],\n",
              "       [ 3.77088909e-03,  9.31848374e-01,  3.39964984e-01,\n",
              "        -1.56821116e-02,  1.60928168e-01, -1.90653494e-01,\n",
              "        -3.94849514e-01, -2.67733537e-01, -1.12801133e+00,\n",
              "         2.80441705e-01],\n",
              "       [-9.93123611e-01,  8.41631264e-01, -2.49458580e-01,\n",
              "         4.94949817e-02,  4.93836776e-01,  6.43314465e-01,\n",
              "        -1.57062341e+00, -2.06903676e-01,  8.80178912e-01,\n",
              "        -1.69810582e+00],\n",
              "       [ 3.87280475e-01, -2.25556423e+00, -1.02250684e+00,\n",
              "         3.86305518e-02, -1.65671510e+00, -9.85510738e-01,\n",
              "        -1.47183501e+00,  1.64813493e+00,  1.64227755e-01,\n",
              "         5.67290278e-01],\n",
              "       [-2.22675101e-01, -3.53431749e-01, -1.61647419e+00,\n",
              "        -2.91837363e-01, -7.61492212e-01,  8.57923924e-01,\n",
              "         1.14110187e+00,  1.46657872e+00,  8.52551939e-01,\n",
              "        -5.98653937e-01],\n",
              "       [-1.11589699e+00,  7.66663182e-01,  3.56292817e-01,\n",
              "        -1.76853845e+00,  3.55481793e-01,  8.14519822e-01,\n",
              "         5.89255892e-02, -1.85053671e-01, -8.07648488e-01,\n",
              "        -1.44653470e+00],\n",
              "       [ 8.00297949e-01, -3.09114445e-01, -2.33466662e-01,\n",
              "         1.73272119e+00,  6.84501107e-01,  3.70825001e-01,\n",
              "         1.42061805e-01,  1.51999486e+00,  1.71958931e+00,\n",
              "         9.29505111e-01],\n",
              "       [ 5.82224591e-01, -2.09460307e+00,  1.23721914e-01,\n",
              "        -1.30106954e-01,  9.39532294e-02,  9.43046087e-01,\n",
              "        -2.73967717e+00, -5.69312053e-01,  2.69904355e-01,\n",
              "        -4.66845546e-01],\n",
              "       [-1.41690611e+00,  8.68963487e-01,  2.76871906e-01,\n",
              "        -9.71104570e-01,  3.14817205e-01,  8.21585712e-01,\n",
              "         5.29264630e-03,  8.00564803e-01,  7.82601752e-02,\n",
              "        -3.95228983e-01],\n",
              "       [-1.15942052e+00, -8.59307670e-02,  1.94292938e-01,\n",
              "         8.75832762e-01, -1.15107468e-01,  4.57415606e-01,\n",
              "        -9.64612014e-01, -7.82629156e-01, -1.10389299e-01,\n",
              "        -1.05462846e+00],\n",
              "       [ 8.20247837e-01,  4.63130329e-01,  2.79095764e-01,\n",
              "         3.38904125e-01,  2.02104356e+00, -4.68864188e-01,\n",
              "        -2.20144129e+00,  1.99300197e-01, -5.06035410e-02,\n",
              "        -5.17519043e-01],\n",
              "       [-9.78829859e-01, -4.39189522e-01,  1.81338429e-01,\n",
              "        -5.02816701e-01,  2.41245368e+00, -9.60504382e-01,\n",
              "        -7.93117363e-01, -2.28862004e+00,  2.51484415e-01,\n",
              "        -2.01640663e+00],\n",
              "       [-5.39454633e-01, -2.75670535e-01, -7.09727966e-01,\n",
              "         1.73887268e+00,  9.94394391e-01,  1.31913688e+00,\n",
              "        -8.82418819e-01,  1.12859406e+00,  4.96000946e-01,\n",
              "         7.71405949e-01],\n",
              "       [ 1.02943883e+00, -9.08763246e-01, -4.24317621e-01,\n",
              "         8.62596011e-01, -2.65561909e+00,  1.51332808e+00,\n",
              "         5.53132064e-01, -4.57039607e-02,  2.20507656e-01,\n",
              "        -1.02993528e+00],\n",
              "       [-3.49943365e-01,  1.10028434e+00,  1.29802197e+00,\n",
              "         2.69622405e+00, -7.39246663e-02, -6.58552967e-01,\n",
              "        -5.14233966e-01, -1.01804188e+00, -7.78547559e-02,\n",
              "         3.82732430e-01],\n",
              "       [-3.42422805e-02,  1.09634685e+00, -2.34215801e-01,\n",
              "        -3.47450652e-01, -5.81268477e-01, -1.63263453e+00,\n",
              "        -1.56776772e+00, -1.17915793e+00,  1.30142807e+00,\n",
              "         8.95260273e-01],\n",
              "       [ 1.37496407e+00, -1.33221165e+00, -1.96862469e+00,\n",
              "        -6.60056320e-01,  1.75818953e-01,  4.98690275e-01,\n",
              "         1.04797216e+00,  2.84279671e-01,  1.74266878e+00,\n",
              "        -2.22605681e-01],\n",
              "       [-9.13079218e-01, -1.68121822e+00, -8.88971358e-01,\n",
              "         2.42117961e-01, -8.88720257e-01,  9.36742464e-01,\n",
              "         1.41232771e+00, -2.36958691e+00,  8.64052300e-01,\n",
              "        -2.23960406e+00],\n",
              "       [ 4.01499055e-01,  1.22487056e+00,  6.48561063e-02,\n",
              "        -1.27968917e+00, -5.85431204e-01, -2.61645446e-01,\n",
              "        -1.82244784e-01, -2.02896841e-01, -1.09882779e-01,\n",
              "         2.13480049e-01],\n",
              "       [-1.20857365e+00, -2.42019830e-01,  1.51826117e+00,\n",
              "        -3.84645423e-01, -4.43836093e-01,  1.07819730e+00,\n",
              "        -2.55918467e+00,  1.18137860e+00, -6.31903758e-01,\n",
              "         1.63928572e-01],\n",
              "       [ 9.63213559e-02,  9.42468119e-01, -2.67594746e-01,\n",
              "        -6.78025782e-01,  1.29784579e+00, -2.36417382e+00,\n",
              "         2.03341817e-02, -1.34792542e+00, -7.61573388e-01,\n",
              "         2.01125668e+00],\n",
              "       [-4.45954265e-02,  1.95069697e-01, -1.78156286e+00,\n",
              "        -7.29044659e-01,  1.96557401e-01,  3.54757693e-01,\n",
              "         6.16886554e-01,  8.62789892e-03,  5.27004208e-01,\n",
              "         4.53781913e-01],\n",
              "       [-1.82974041e+00,  3.70057219e-02,  7.67902408e-01,\n",
              "         5.89879821e-01, -3.63858810e-01, -8.05626508e-01,\n",
              "        -1.11831192e+00, -1.31054012e-01,  1.13307988e+00,\n",
              "        -1.95180410e+00],\n",
              "       [-6.59891730e-01, -1.13980246e+00,  7.84957521e-01,\n",
              "        -5.54309627e-01, -4.70637658e-01, -2.16949570e-01,\n",
              "         4.45393251e-01, -3.92388998e-01, -3.04614305e+00,\n",
              "         5.43311891e-01],\n",
              "       [ 4.39042958e-01, -2.19541028e-01, -1.08403662e+00,\n",
              "         3.51780111e-01,  3.79235534e-01, -4.70032883e-01,\n",
              "        -2.16731471e-01, -9.30156503e-01, -1.78589092e-01,\n",
              "        -1.55042935e+00],\n",
              "       [ 4.17318821e-01, -9.44368491e-01,  2.38103148e-01,\n",
              "        -1.40596292e+00, -5.90057646e-01, -1.10489405e-01,\n",
              "        -1.66069981e+00,  1.15147873e-01, -3.79147563e-01,\n",
              "        -1.74235620e+00],\n",
              "       [-1.30324275e+00,  6.05120084e-01,  8.95555986e-01,\n",
              "        -1.31908640e-01,  4.04761812e-01,  2.23843563e-01,\n",
              "         3.29622982e-01,  1.28598401e+00, -1.50699840e+00,\n",
              "         6.76460732e-01],\n",
              "       [-3.82008956e-01, -2.24258934e-01, -3.02249730e-01,\n",
              "        -3.75147117e-01, -1.22619619e+00,  1.83339199e-01,\n",
              "         1.67094303e+00, -5.61330204e-02, -1.38504274e-03,\n",
              "        -6.87299037e-01],\n",
              "       [-1.17474546e-01,  4.66166426e-01, -3.70242441e-01,\n",
              "        -4.53804041e-01,  4.03264540e-01, -9.18004770e-01,\n",
              "         2.52496627e-01,  8.20321797e-01,  1.35994854e+00,\n",
              "        -9.03820073e-02],\n",
              "       [ 1.36759724e+00,  1.03440989e+00, -9.96212640e-01,\n",
              "        -1.21793851e+00, -3.04963638e-01,  1.02893549e+00,\n",
              "        -7.22870076e-02, -6.00657558e-01,  1.55224318e+00,\n",
              "         2.86904488e-01],\n",
              "       [-2.32059428e+00,  3.17160626e-01,  5.20040615e-01,\n",
              "         2.25608654e-01,  4.49712100e-01, -6.72756089e-02,\n",
              "        -1.31839587e+00, -3.70704003e-01, -9.45615796e-01,\n",
              "        -9.32740911e-01],\n",
              "       [-1.26306835e+00,  4.52489093e-01,  9.78961454e-02,\n",
              "        -4.48165363e-01, -6.49337928e-01, -2.34231050e-02,\n",
              "         1.07919473e+00, -2.00421572e+00,  3.76876521e-01,\n",
              "        -5.45711974e-01],\n",
              "       [-1.88458584e+00, -1.94570308e+00, -9.12783494e-01,\n",
              "         2.19509556e-01,  3.93062934e-01, -9.38981573e-01,\n",
              "         1.01702099e+00,  1.42298350e+00,  3.96086585e-01,\n",
              "        -5.91402668e-01],\n",
              "       [ 1.12441918e+00,  7.55395696e-01,  8.67407411e-01,\n",
              "        -6.56463675e-01, -2.83455451e+00,  2.11679102e+00,\n",
              "        -1.61087840e+00, -3.57680719e-02,  2.38074535e+00,\n",
              "         3.30576756e-01],\n",
              "       [ 9.49246474e-01, -1.50239657e+00, -1.77766695e+00,\n",
              "        -5.32702792e-01,  1.09074973e+00, -3.46249448e-01,\n",
              "        -7.94636321e-01,  1.97967290e-01,  1.08193522e+00,\n",
              "        -1.44494020e+00],\n",
              "       [-1.21054299e+00, -7.88669255e-01,  1.09463837e+00,\n",
              "         2.34821526e-01,  2.13215341e+00,  9.36445726e-01,\n",
              "        -3.50951769e-02,  1.26507784e+00,  2.11497013e-01,\n",
              "        -7.04921353e-01],\n",
              "       [ 6.79974844e-01, -6.96326654e-01, -2.90397101e-01,\n",
              "         1.32778270e+00, -1.01281486e-01, -8.03141387e-01,\n",
              "        -4.64337691e-01,  1.02179059e+00, -5.52540673e-01,\n",
              "        -3.86870847e-01],\n",
              "       [-5.10292740e-01,  1.83925494e-01, -3.85489760e-01,\n",
              "        -1.60183605e+00, -8.87180942e-01, -9.32789042e-01,\n",
              "         1.24331938e+00,  8.12674042e-01,  5.87259379e-01,\n",
              "        -5.05358317e-01],\n",
              "       [-8.15791542e-01, -5.07517602e-01, -1.05188010e+00,\n",
              "         2.49720039e+00, -2.24532165e+00,  5.64008535e-01,\n",
              "        -1.28455230e+00, -1.04343491e-01, -9.88001942e-01,\n",
              "        -1.17762896e+00],\n",
              "       [-1.14019630e+00,  1.75498615e+00, -1.32988422e-01,\n",
              "        -7.65702194e-01,  5.55786964e-01,  1.03493146e-02,\n",
              "         7.20033759e-01, -1.82425666e+00,  3.03603904e-01,\n",
              "         7.72694837e-01],\n",
              "       [-1.66159829e+00,  4.48195284e-01,  1.69618157e+00,\n",
              "        -1.48577034e-02,  8.21405937e-01,  6.70570450e-01,\n",
              "        -7.07505698e-01,  3.97667346e-02, -1.56699471e+00,\n",
              "        -4.51303037e-01],\n",
              "       [ 2.65687975e-01,  7.23100494e-01,  2.46121252e-02,\n",
              "         7.19983730e-01, -1.10290621e+00, -1.01697275e-01,\n",
              "         1.92793845e-02,  1.84959125e+00, -2.14166656e-01,\n",
              "        -4.99016638e-01],\n",
              "       [ 2.13512238e-02, -9.19113445e-01,  1.92753849e-01,\n",
              "        -3.65055217e-01, -1.79132755e+00, -5.85865511e-02,\n",
              "        -3.17543094e-01, -1.63242330e+00, -6.71341546e-02,\n",
              "         1.48935596e+00],\n",
              "       [ 5.21303748e-01,  6.11927193e-01, -1.34149673e+00,\n",
              "         4.76898369e-01,  1.48449581e-01,  5.29045238e-01,\n",
              "         4.22628622e-01, -1.35978073e+00, -4.14008116e-02,\n",
              "        -7.57870860e-01],\n",
              "       [-5.00840943e-02, -8.97400927e-01,  1.31247037e+00,\n",
              "        -8.58972388e-01, -8.98942156e-01,  7.45864065e-02,\n",
              "        -1.07709907e+00, -4.24663302e-01, -8.29964598e-01,\n",
              "         1.41117206e+00],\n",
              "       [ 7.85803827e-01, -5.74695185e-02, -3.91217052e-01,\n",
              "         9.40917615e-01,  4.05204080e-01,  4.98052405e-01,\n",
              "        -2.61922373e-02, -1.68823003e+00, -1.12465983e-01,\n",
              "        -5.32489919e-01],\n",
              "       [ 6.45055273e-01,  1.01184243e+00, -6.57951045e-01,\n",
              "         4.68385234e-01,  1.73587900e+00, -6.67712721e-01,\n",
              "         1.68192174e+00, -8.52585847e-01,  2.29597556e-02,\n",
              "        -1.11456118e-02],\n",
              "       [ 1.14988999e-02, -8.37678042e-01, -5.91183104e-01,\n",
              "        -6.67720286e-01,  3.26962595e-01,  3.30035115e-01,\n",
              "         2.22594433e+00,  1.37098901e+00, -5.09843242e-01,\n",
              "         3.24869616e-01],\n",
              "       [ 9.97117981e-01,  3.06018243e-02, -6.96415784e-02,\n",
              "         5.15749428e-02,  8.67276629e-01, -8.48320523e-01,\n",
              "        -3.25669469e-01,  4.70433145e-01,  3.11447072e-01,\n",
              "         2.39582760e-01],\n",
              "       [-3.69801166e-01,  9.72535789e-01,  2.13386825e+00,\n",
              "         4.06415494e-01, -1.93176702e-01,  7.55740289e-01,\n",
              "        -5.39132637e-01, -7.49690345e-01,  3.28087476e-02,\n",
              "        -2.58279663e+00],\n",
              "       [-1.15395036e+00, -3.47961856e-01, -1.35338886e+00,\n",
              "        -1.03264310e+00, -4.36748337e-01, -1.64296529e+00,\n",
              "        -4.06071796e-01, -5.35270165e-01,  2.54052084e-02,\n",
              "         1.15418403e+00],\n",
              "       [ 1.72504416e-01,  2.10620213e-02,  9.94544570e-02,\n",
              "         2.27392775e-01, -1.01673865e+00, -1.14775325e-01,\n",
              "         3.08751242e-01, -1.37075998e+00,  8.65652923e-01,\n",
              "         1.08137603e+00],\n",
              "       [-6.31375988e-01, -2.41337791e-01, -8.78190343e-01,\n",
              "         6.99380484e-01, -1.06122229e+00, -2.22477010e-01,\n",
              "        -8.58919908e-01,  5.09542770e-02, -1.79422927e+00,\n",
              "         1.32646164e+00],\n",
              "       [-9.64606424e-01,  5.98946831e-02, -2.12523045e-01,\n",
              "        -7.62114512e-01, -8.87780137e-01,  9.36398544e-01,\n",
              "        -5.25640593e-01,  2.71170185e-01, -8.01496885e-01,\n",
              "        -6.47181432e-01],\n",
              "       [ 4.72247150e-01,  9.30408496e-01, -1.75316402e-01,\n",
              "        -1.42191987e+00,  1.99795608e+00, -8.56549308e-01,\n",
              "        -1.54158740e+00,  2.59442459e+00, -4.04032294e-01,\n",
              "        -1.46173269e+00],\n",
              "       [-6.83439767e-01,  3.67544896e-01,  1.90311558e-01,\n",
              "        -8.51729197e-01,  1.82272360e+00, -5.21579678e-01,\n",
              "        -1.18468659e+00,  9.60693398e-01,  1.32906285e+00,\n",
              "        -8.17493098e-01],\n",
              "       [-1.40134729e+00,  1.03043827e+00, -2.04732361e+00,\n",
              "        -1.22662166e+00,  9.67446150e-01, -5.53525480e-02,\n",
              "        -2.63937349e-01,  3.52816606e-01, -1.52774424e-01,\n",
              "        -1.29868672e+00],\n",
              "       [ 1.27607535e+00,  1.32501405e+00,  2.05332564e-01,\n",
              "         4.51340154e-02,  2.33962481e+00, -2.76432845e-01,\n",
              "        -2.59576982e-01,  3.64481249e-01,  1.47132196e+00,\n",
              "         1.59277075e+00],\n",
              "       [-2.58572632e-01,  3.08331246e-01, -1.37808347e+00,\n",
              "        -3.11976108e-01, -8.40290395e-01, -1.00683175e+00,\n",
              "         1.68157672e+00, -7.92286662e-01, -5.31605908e-01,\n",
              "         3.65848788e-01],\n",
              "       [ 1.29782527e+00,  4.81115126e-01,  2.75935511e+00,\n",
              "        -7.46679783e-02,  2.58716440e-01,  2.75600674e-01,\n",
              "         1.43504939e+00,  5.07238951e-01, -1.16229700e-01,\n",
              "        -9.47488595e-01],\n",
              "       [ 2.44443456e-01,  1.40134483e+00, -4.10381794e-01,\n",
              "         5.28943618e-01,  2.46147789e-01,  8.63519658e-01,\n",
              "        -8.04753741e-01,  2.34664703e+00, -1.27916111e+00,\n",
              "        -3.65551090e-01],\n",
              "       [ 9.38092541e-01,  2.96733172e-01,  8.29986159e-01,\n",
              "        -4.96102334e-01, -7.48049827e-02,  1.22319836e-02,\n",
              "         1.56925961e+00,  6.90429024e-01,  7.96672108e-01,\n",
              "        -6.57926093e-01],\n",
              "       [ 9.68882639e-01,  2.25581664e-01,  1.38914532e+00,\n",
              "         2.01406015e+00, -3.06765776e-01, -4.06303130e-01,\n",
              "        -8.64044991e-01, -1.43579512e-01, -3.82025449e-01,\n",
              "         3.59504400e-01],\n",
              "       [-1.44566817e-01, -3.61599281e-01,  1.06458514e+00,\n",
              "        -9.37880231e-01,  4.33107953e-01, -4.05941727e-01,\n",
              "         7.24368505e-01,  1.38526155e+00, -3.03098253e-01,\n",
              "         4.41032907e-01],\n",
              "       [ 1.78792866e-01, -7.99422400e-01,  2.40787510e-01,\n",
              "         2.89120505e-01,  4.12870820e-01, -1.98398897e-01,\n",
              "         9.41923003e-02, -1.14761094e+00, -3.58114075e-01,\n",
              "         5.55962680e-01],\n",
              "       [ 8.92473887e-01, -4.22314824e-01,  1.04714029e-01,\n",
              "         2.28053325e-01,  2.01479947e-01,  5.40773585e-01,\n",
              "        -1.81807763e+00, -4.93240701e-02,  2.39033601e-01,\n",
              "        -1.00033035e+00],\n",
              "       [ 1.67398571e+00,  1.61559267e-01,  1.56340475e+00,\n",
              "        -7.90523022e-01, -9.07300122e-01,  2.24252221e-01,\n",
              "        -1.67868836e+00,  2.14965591e-01,  9.72192320e-02,\n",
              "         1.01566528e+00],\n",
              "       [ 7.01041341e-01, -4.17477350e-01, -1.09749665e+00,\n",
              "         1.71230522e+00, -7.92115021e-01, -1.04552456e+00,\n",
              "        -1.08485606e+00,  1.11730532e+00, -5.18900204e-01,\n",
              "        -7.53704466e-01],\n",
              "       [ 1.37689826e-01, -2.06944711e-01, -6.78095461e-01,\n",
              "         7.53991467e-01,  1.06531549e+00,  9.85317509e-01,\n",
              "         7.66919670e-01,  4.02625531e-01, -1.77588800e+00,\n",
              "         1.66925081e+00],\n",
              "       [ 3.01989210e-01,  6.08156428e-01,  1.11496232e+00,\n",
              "         1.43335250e+00,  4.18398011e-01,  4.35546159e-01,\n",
              "        -5.99224277e-01,  3.30897511e-02, -8.54161261e-01,\n",
              "        -7.19940532e-01],\n",
              "       [-8.93574402e-01, -1.56023891e-01,  1.04909319e+00,\n",
              "         3.17097477e+00,  1.89499638e-01, -1.34841309e+00,\n",
              "         1.26498333e+00, -3.00783876e-01, -6.60608594e-01,\n",
              "         2.09849478e-01],\n",
              "       [-1.24062460e+00,  2.22463164e-01, -8.83755232e-02,\n",
              "         9.83779068e-02,  3.81416254e-01,  6.74922572e-02,\n",
              "         1.63380841e-02,  2.84314519e-01,  4.15400626e-01,\n",
              "        -1.03148246e+00],\n",
              "       [-1.42999126e+00, -6.16380522e-02, -1.43273549e+00,\n",
              "         8.75314709e-02,  9.38746876e-01,  6.07111672e-01,\n",
              "        -1.04817041e+00, -8.60262452e-01,  3.28301295e-01,\n",
              "        -4.01297805e-01],\n",
              "       [-3.16655295e-01,  5.96906481e-01, -9.87286693e-01,\n",
              "        -4.01234710e-01, -8.00082476e-01, -1.04312950e+00,\n",
              "        -8.57078189e-01,  6.77462169e-01,  5.18203895e-02,\n",
              "        -8.79160629e-01],\n",
              "       [-2.31101608e-01, -1.63880731e+00, -7.33312808e-01,\n",
              "         2.14957453e+00, -9.02438497e-02,  7.31658927e-01,\n",
              "        -6.54883751e-02,  3.48169235e-01,  6.63258090e-01,\n",
              "        -1.10461660e+00],\n",
              "       [-3.09362573e-02,  1.57886519e+00, -7.95500550e-01,\n",
              "        -5.66439854e-01, -3.07691277e-01,  2.69024073e-01,\n",
              "         5.24917864e-01,  1.26741165e+00,  4.99498233e-01,\n",
              "        -6.20531258e-02]])"
            ]
          },
          "metadata": {},
          "execution_count": 108
        }
      ]
    },
    {
      "cell_type": "code",
      "metadata": {
        "id": "uwXIejqEtAII",
        "outputId": "88cf57ac-b47b-4691-8bcb-8cdc41b962b9",
        "colab": {
          "base_uri": "https://localhost:8080/"
        }
      },
      "source": [
        "np.random.rand()"
      ],
      "execution_count": 109,
      "outputs": [
        {
          "output_type": "execute_result",
          "data": {
            "text/plain": [
              "0.88118825140944"
            ]
          },
          "metadata": {},
          "execution_count": 109
        }
      ]
    },
    {
      "cell_type": "code",
      "metadata": {
        "id": "tt_585MMtF4G",
        "outputId": "d1d2e727-866b-4f64-fe9c-0c121cf69057",
        "colab": {
          "base_uri": "https://localhost:8080/"
        }
      },
      "source": [
        "np.random.rand(10)"
      ],
      "execution_count": 110,
      "outputs": [
        {
          "output_type": "execute_result",
          "data": {
            "text/plain": [
              "array([0.91641901, 0.2715511 , 0.60754536, 0.52658403, 0.53794578,\n",
              "       0.93766309, 0.3051887 , 0.98343398, 0.90213121, 0.45872289])"
            ]
          },
          "metadata": {},
          "execution_count": 110
        }
      ]
    },
    {
      "cell_type": "code",
      "metadata": {
        "id": "Fu70LlibtHme",
        "outputId": "64739a49-4262-4296-ee60-17dfa68836cc",
        "colab": {
          "base_uri": "https://localhost:8080/"
        }
      },
      "source": [
        "np.random.rand(10, 2)"
      ],
      "execution_count": 111,
      "outputs": [
        {
          "output_type": "execute_result",
          "data": {
            "text/plain": [
              "array([[0.81745326, 0.76904699],\n",
              "       [0.67789497, 0.31983389],\n",
              "       [0.19645099, 0.6715277 ],\n",
              "       [0.8429733 , 0.01625279],\n",
              "       [0.64280338, 0.44287302],\n",
              "       [0.89808776, 0.32147293],\n",
              "       [0.47418481, 0.5147671 ],\n",
              "       [0.14043952, 0.7128923 ],\n",
              "       [0.83047635, 0.05790928],\n",
              "       [0.29138882, 0.03804468]])"
            ]
          },
          "metadata": {},
          "execution_count": 111
        }
      ]
    },
    {
      "cell_type": "code",
      "metadata": {
        "id": "rI7_KQXQtLHJ",
        "outputId": "445d5c66-627f-4576-8c80-eb8d324ca9d2",
        "colab": {
          "base_uri": "https://localhost:8080/"
        }
      },
      "source": [
        "np.random.randint(10)"
      ],
      "execution_count": 113,
      "outputs": [
        {
          "output_type": "execute_result",
          "data": {
            "text/plain": [
              "1"
            ]
          },
          "metadata": {},
          "execution_count": 113
        }
      ]
    },
    {
      "cell_type": "code",
      "metadata": {
        "id": "ddLkf7LYtSiD",
        "outputId": "273928af-6987-4cf3-d26a-570ba24e8552",
        "colab": {
          "base_uri": "https://localhost:8080/"
        }
      },
      "source": [
        "np.random.randint(low=10, high=101)"
      ],
      "execution_count": 114,
      "outputs": [
        {
          "output_type": "execute_result",
          "data": {
            "text/plain": [
              "39"
            ]
          },
          "metadata": {},
          "execution_count": 114
        }
      ]
    },
    {
      "cell_type": "code",
      "metadata": {
        "id": "cQAjDJ6ktY1B",
        "outputId": "8af7621b-4693-4725-81d0-e95ce59f79a9",
        "colab": {
          "base_uri": "https://localhost:8080/"
        }
      },
      "source": [
        "np.random.randint(low=10, high=101, size=10)"
      ],
      "execution_count": 115,
      "outputs": [
        {
          "output_type": "execute_result",
          "data": {
            "text/plain": [
              "array([ 73,  71,  93, 100,  36,  83,  60,  27,  81,  66])"
            ]
          },
          "metadata": {},
          "execution_count": 115
        }
      ]
    },
    {
      "cell_type": "code",
      "metadata": {
        "id": "lDhuLIMJteqR",
        "outputId": "ebffc7d5-c5d3-4f5b-a0af-1e7125bf8b91",
        "colab": {
          "base_uri": "https://localhost:8080/"
        }
      },
      "source": [
        "np.random.choice([4, 2, 1, 3, 5])"
      ],
      "execution_count": 116,
      "outputs": [
        {
          "output_type": "execute_result",
          "data": {
            "text/plain": [
              "3"
            ]
          },
          "metadata": {},
          "execution_count": 116
        }
      ]
    },
    {
      "cell_type": "code",
      "metadata": {
        "id": "Zo97o5e5toIk",
        "outputId": "efab5821-fbf1-4847-f0ec-eaaf2eff6587",
        "colab": {
          "base_uri": "https://localhost:8080/",
          "height": 36
        }
      },
      "source": [
        "np.random.choice(['python', 'java', 'sql'])"
      ],
      "execution_count": 119,
      "outputs": [
        {
          "output_type": "execute_result",
          "data": {
            "text/plain": [
              "'python'"
            ],
            "application/vnd.google.colaboratory.intrinsic+json": {
              "type": "string"
            }
          },
          "metadata": {},
          "execution_count": 119
        }
      ]
    },
    {
      "cell_type": "code",
      "metadata": {
        "id": "V_7pdPoStv51",
        "outputId": "63d4620c-f666-479e-ca6d-12a5c68d2e4c",
        "colab": {
          "base_uri": "https://localhost:8080/"
        }
      },
      "source": [
        "data = np.arange(10)\n",
        "data"
      ],
      "execution_count": 120,
      "outputs": [
        {
          "output_type": "execute_result",
          "data": {
            "text/plain": [
              "array([0, 1, 2, 3, 4, 5, 6, 7, 8, 9])"
            ]
          },
          "metadata": {},
          "execution_count": 120
        }
      ]
    },
    {
      "cell_type": "code",
      "metadata": {
        "id": "uGhf7jkHt1HT"
      },
      "source": [
        "np.random.shuffle(data)"
      ],
      "execution_count": 123,
      "outputs": []
    },
    {
      "cell_type": "code",
      "metadata": {
        "id": "7dtnQW5ut7Wk",
        "outputId": "2948b598-a23a-4e87-9f07-5778932033cc",
        "colab": {
          "base_uri": "https://localhost:8080/"
        }
      },
      "source": [
        "data"
      ],
      "execution_count": 124,
      "outputs": [
        {
          "output_type": "execute_result",
          "data": {
            "text/plain": [
              "array([5, 9, 3, 6, 8, 1, 0, 2, 7, 4])"
            ]
          },
          "metadata": {},
          "execution_count": 124
        }
      ]
    },
    {
      "cell_type": "markdown",
      "metadata": {
        "id": "p-kIfyzu-vaD"
      },
      "source": [
        "### <a name='a6'></a> Podstawowe funkcje"
      ]
    },
    {
      "cell_type": "markdown",
      "source": [
        "Exponent - popularna w sieciach neuronowych i uczeniu maszynowym.\n",
        "\n",
        "Jeśli podniesiemy do 1, jest to stała Eulera:"
      ],
      "metadata": {
        "id": "ljJ_7UGikMS8"
      }
    },
    {
      "cell_type": "code",
      "metadata": {
        "id": "woTpWmBOvAlx",
        "outputId": "5eca59df-7ed5-4e9d-a0d2-75a0c563b0ad",
        "colab": {
          "base_uri": "https://localhost:8080/"
        }
      },
      "source": [
        "np.exp(1)"
      ],
      "execution_count": 125,
      "outputs": [
        {
          "output_type": "execute_result",
          "data": {
            "text/plain": [
              "2.718281828459045"
            ]
          },
          "metadata": {},
          "execution_count": 125
        }
      ]
    },
    {
      "cell_type": "code",
      "source": [
        "np.exp(10)"
      ],
      "metadata": {
        "id": "LvxlNe4Ze7JB",
        "outputId": "0075b5b4-150b-491f-a1df-6c59dfd8bd04",
        "colab": {
          "base_uri": "https://localhost:8080/"
        }
      },
      "execution_count": 126,
      "outputs": [
        {
          "output_type": "execute_result",
          "data": {
            "text/plain": [
              "22026.465794806718"
            ]
          },
          "metadata": {},
          "execution_count": 126
        }
      ]
    },
    {
      "cell_type": "code",
      "source": [
        "np.exp(-2)"
      ],
      "metadata": {
        "id": "0lRx_Yo1e93c",
        "outputId": "dc2bacf3-87af-4ed7-f75f-ede53828fc67",
        "colab": {
          "base_uri": "https://localhost:8080/"
        }
      },
      "execution_count": 127,
      "outputs": [
        {
          "output_type": "execute_result",
          "data": {
            "text/plain": [
              "0.1353352832366127"
            ]
          },
          "metadata": {},
          "execution_count": 127
        }
      ]
    },
    {
      "cell_type": "markdown",
      "source": [
        "Pierwiastek kwadratowy z przekazanej liczby (zwróci ją w typie float):"
      ],
      "metadata": {
        "id": "utlr_JjMkTdm"
      }
    },
    {
      "cell_type": "code",
      "metadata": {
        "id": "QZyUMWJpvE4a",
        "outputId": "83810c94-cf89-4959-f3f0-76e0a25689b3",
        "colab": {
          "base_uri": "https://localhost:8080/"
        }
      },
      "source": [
        "np.sqrt(9)"
      ],
      "execution_count": 128,
      "outputs": [
        {
          "output_type": "execute_result",
          "data": {
            "text/plain": [
              "3.0"
            ]
          },
          "metadata": {},
          "execution_count": 128
        }
      ]
    },
    {
      "cell_type": "code",
      "source": [
        "np.sqrt(100)"
      ],
      "metadata": {
        "id": "uLHqCnGufoiJ",
        "outputId": "7e2414ad-f7bd-47de-c64a-2268e5f93484",
        "colab": {
          "base_uri": "https://localhost:8080/"
        }
      },
      "execution_count": 129,
      "outputs": [
        {
          "output_type": "execute_result",
          "data": {
            "text/plain": [
              "10.0"
            ]
          },
          "metadata": {},
          "execution_count": 129
        }
      ]
    },
    {
      "cell_type": "markdown",
      "source": [
        "Funkcje logiczne, które testują, co znajduje się w naszych listach lub tablicach:\n"
      ],
      "metadata": {
        "id": "EkZTGJJuj8Iw"
      }
    },
    {
      "cell_type": "code",
      "metadata": {
        "id": "uIznDYvLvMUD",
        "outputId": "f446cd84-fda9-40fe-fa2c-427a3df0e48e",
        "colab": {
          "base_uri": "https://localhost:8080/"
        }
      },
      "source": [
        "np.all([2, 3, 1])"
      ],
      "execution_count": 131,
      "outputs": [
        {
          "output_type": "execute_result",
          "data": {
            "text/plain": [
              "True"
            ]
          },
          "metadata": {},
          "execution_count": 131
        }
      ]
    },
    {
      "cell_type": "code",
      "source": [
        "np.all([0, 1, 2])"
      ],
      "metadata": {
        "id": "fYDewIDchFkg",
        "outputId": "e108c46e-e8f6-4f1b-de06-419600689d66",
        "colab": {
          "base_uri": "https://localhost:8080/"
        }
      },
      "execution_count": 132,
      "outputs": [
        {
          "output_type": "execute_result",
          "data": {
            "text/plain": [
              "False"
            ]
          },
          "metadata": {},
          "execution_count": 132
        }
      ]
    },
    {
      "cell_type": "markdown",
      "source": [
        "All: przechodzi po naszym obiekcie iterowalnym i bada, czy każdy element zwraca wartość logiczną False czy True. Jeżeli każda wartość zwróci prawdę, to zwróci prawdę. Jeżeli którakolwiek z tych wartości zwróci fałsz, to funkcja all zwróci False. To nie musi być lista pythonowa, to może być obiekt array."
      ],
      "metadata": {
        "id": "f3_Ss0fZlE9A"
      }
    },
    {
      "cell_type": "code",
      "metadata": {
        "id": "g6HbZViyvZc3",
        "outputId": "c3d0a9ab-56c5-466b-ee3e-01dc31a00b5e",
        "colab": {
          "base_uri": "https://localhost:8080/"
        }
      },
      "source": [
        "np.any([0, 0, 0])"
      ],
      "execution_count": 133,
      "outputs": [
        {
          "output_type": "execute_result",
          "data": {
            "text/plain": [
              "False"
            ]
          },
          "metadata": {},
          "execution_count": 133
        }
      ]
    },
    {
      "cell_type": "code",
      "source": [
        "np.any([0, 1, 0])"
      ],
      "metadata": {
        "id": "AeSiC4Mri8cw",
        "outputId": "8bd633e8-580b-48eb-a6fe-24022f9cd27a",
        "colab": {
          "base_uri": "https://localhost:8080/"
        }
      },
      "execution_count": 134,
      "outputs": [
        {
          "output_type": "execute_result",
          "data": {
            "text/plain": [
              "True"
            ]
          },
          "metadata": {},
          "execution_count": 134
        }
      ]
    },
    {
      "cell_type": "markdown",
      "source": [
        "Any - sprawdza, czy jakikolwiek obiekt jest prawdą. Zwróci prawdę, jeśli choć jeden będzie prawdą. Jeśli wszystkie będą false, to wtedy zwróci false. Zastosowanie: jeśli mamy dużą tablicę, która składa się głównie z 0 i są pojedyncze 1, to możemy właśnie funkcją any szybko to sprawdzić."
      ],
      "metadata": {
        "id": "4lZqq6SllJ3j"
      }
    },
    {
      "cell_type": "code",
      "metadata": {
        "id": "VnsPajVZvkUN",
        "outputId": "743f4e11-ceaa-46e6-fc90-390c8c028f4d",
        "colab": {
          "base_uri": "https://localhost:8080/"
        }
      },
      "source": [
        "bool(1.3)"
      ],
      "execution_count": 135,
      "outputs": [
        {
          "output_type": "execute_result",
          "data": {
            "text/plain": [
              "True"
            ]
          },
          "metadata": {},
          "execution_count": 135
        }
      ]
    },
    {
      "cell_type": "markdown",
      "source": [
        "W przypadku 0 zwraca False, w przypadku każdej innej liczby zwraca True."
      ],
      "metadata": {
        "id": "sEofQVxjlWPd"
      }
    },
    {
      "cell_type": "markdown",
      "source": [
        "**Statystyczne:**"
      ],
      "metadata": {
        "id": "kd21PzsNteih"
      }
    },
    {
      "cell_type": "code",
      "metadata": {
        "id": "fivP8kXCvqJu",
        "outputId": "d40b672f-a9d4-4c0d-ca6b-c60ebc7244d4",
        "colab": {
          "base_uri": "https://localhost:8080/"
        }
      },
      "source": [
        "A = np.random.randn(5)\n",
        "A"
      ],
      "execution_count": 137,
      "outputs": [
        {
          "output_type": "execute_result",
          "data": {
            "text/plain": [
              "array([ 1.25916713, -1.03760694, -0.14690506,  0.43111328,  0.71923033])"
            ]
          },
          "metadata": {},
          "execution_count": 137
        }
      ]
    },
    {
      "cell_type": "markdown",
      "source": [
        "Generowanie małego obiektu, na którym będziemy pracować - funkcja, która generuje wartości z rozkładu normalnego randn."
      ],
      "metadata": {
        "id": "zivrNXDCtqXn"
      }
    },
    {
      "cell_type": "code",
      "source": [
        "A = np.random.rand(5)\n",
        "A"
      ],
      "metadata": {
        "id": "SPmErkKmmHvS",
        "outputId": "a6c98c55-297e-4bca-a6f8-9993f76a625a",
        "colab": {
          "base_uri": "https://localhost:8080/"
        }
      },
      "execution_count": 141,
      "outputs": [
        {
          "output_type": "execute_result",
          "data": {
            "text/plain": [
              "array([0.08695535, 0.93087704, 0.69439389, 0.77824173, 0.79161454])"
            ]
          },
          "metadata": {},
          "execution_count": 141
        }
      ]
    },
    {
      "cell_type": "markdown",
      "source": [
        "rand - wartości z rozkładu jednostajnego, wartości w przedziale 0-1. Np. prawdopodobieństwa otrzymania klasy dla danej próbki. Problem klasyfikacji, pięć klas i chcemy którąś klasę przyporządkować. Model zwrócił wartości prawdopodobieństw i chcielibyśmy coś zrobić."
      ],
      "metadata": {
        "id": "2zkB3ghbts_1"
      }
    },
    {
      "cell_type": "markdown",
      "source": [
        "Chcemy użyć funkcji, która wyciągnie indeks, gdzie nasza tablica przyjmuje największą wartość: "
      ],
      "metadata": {
        "id": "ywtNmgsLt39l"
      }
    },
    {
      "cell_type": "code",
      "metadata": {
        "id": "43jhuo1uv1Bk",
        "outputId": "1b073ce6-0a40-4c00-f47b-e9b44f1eaced",
        "colab": {
          "base_uri": "https://localhost:8080/"
        }
      },
      "source": [
        "np.argmax(A)"
      ],
      "execution_count": 142,
      "outputs": [
        {
          "output_type": "execute_result",
          "data": {
            "text/plain": [
              "1"
            ]
          },
          "metadata": {},
          "execution_count": 142
        }
      ]
    },
    {
      "cell_type": "markdown",
      "source": [
        "Jeśli chcemy wyciąć tę wartość z tablicy:"
      ],
      "metadata": {
        "id": "TLfabzPgt9CA"
      }
    },
    {
      "cell_type": "code",
      "metadata": {
        "id": "beN7srqwv_P0",
        "outputId": "2e753a70-f4cd-47b5-990e-4351fcd51b4b",
        "colab": {
          "base_uri": "https://localhost:8080/"
        }
      },
      "source": [
        "A[np.argmax(A)]"
      ],
      "execution_count": 143,
      "outputs": [
        {
          "output_type": "execute_result",
          "data": {
            "text/plain": [
              "0.930877036418403"
            ]
          },
          "metadata": {},
          "execution_count": 143
        }
      ]
    },
    {
      "cell_type": "markdown",
      "source": [
        "Jest też funkcja, która pokaże indeks wartości najniższej:"
      ],
      "metadata": {
        "id": "Ci8F_qB2uDkV"
      }
    },
    {
      "cell_type": "code",
      "metadata": {
        "id": "qvSdOhkowFIf",
        "outputId": "cdaa84e8-77a4-404d-e4cb-075d77d97209",
        "colab": {
          "base_uri": "https://localhost:8080/"
        }
      },
      "source": [
        "np.argmin(A)"
      ],
      "execution_count": 145,
      "outputs": [
        {
          "output_type": "execute_result",
          "data": {
            "text/plain": [
              "0"
            ]
          },
          "metadata": {},
          "execution_count": 145
        }
      ]
    },
    {
      "cell_type": "markdown",
      "source": [
        "Ją też można wyciąć:"
      ],
      "metadata": {
        "id": "UVCuA4yCuXp1"
      }
    },
    {
      "cell_type": "code",
      "source": [
        "A[np.argmin(A)]"
      ],
      "metadata": {
        "id": "3-gMV0NzoWqG",
        "outputId": "38324e08-9ffe-4da6-8b8b-7100ae9ff094",
        "colab": {
          "base_uri": "https://localhost:8080/"
        }
      },
      "execution_count": 146,
      "outputs": [
        {
          "output_type": "execute_result",
          "data": {
            "text/plain": [
              "0.08695534603725286"
            ]
          },
          "metadata": {},
          "execution_count": 146
        }
      ]
    },
    {
      "cell_type": "markdown",
      "source": [
        "Funkcja użyteczna przy klasyfikacji wieloklasowej. Pozwala sortować elementy, podając odpowiednio indeks od najmniejszej wartości do największej:"
      ],
      "metadata": {
        "id": "Tzqt4A3fuml0"
      }
    },
    {
      "cell_type": "code",
      "metadata": {
        "id": "4dToN4oKwJ5a",
        "outputId": "cdcd8f25-a6fb-4e0c-bb29-0519f7df43cf",
        "colab": {
          "base_uri": "https://localhost:8080/"
        }
      },
      "source": [
        "np.argsort(A)"
      ],
      "execution_count": 147,
      "outputs": [
        {
          "output_type": "execute_result",
          "data": {
            "text/plain": [
              "array([0, 2, 3, 4, 1])"
            ]
          },
          "metadata": {},
          "execution_count": 147
        }
      ]
    },
    {
      "cell_type": "markdown",
      "source": [
        "**Funkcje czysto statystyczne:**"
      ],
      "metadata": {
        "id": "qd4ZddE0u7JM"
      }
    },
    {
      "cell_type": "markdown",
      "source": [
        "Maximum = zwracamy wartość najwyższą"
      ],
      "metadata": {
        "id": "Nw3DA5-Tu_3L"
      }
    },
    {
      "cell_type": "code",
      "metadata": {
        "id": "gTGuNHQawWzW",
        "outputId": "a5407161-0cf4-4146-ffe4-58509f533d35",
        "colab": {
          "base_uri": "https://localhost:8080/"
        }
      },
      "source": [
        "np.max(A)"
      ],
      "execution_count": 148,
      "outputs": [
        {
          "output_type": "execute_result",
          "data": {
            "text/plain": [
              "0.930877036418403"
            ]
          },
          "metadata": {},
          "execution_count": 148
        }
      ]
    },
    {
      "cell_type": "markdown",
      "source": [
        "Minimum = wartość najniższa"
      ],
      "metadata": {
        "id": "yA-WDmzBvHw_"
      }
    },
    {
      "cell_type": "code",
      "metadata": {
        "id": "Z51pdnVrwZZu",
        "outputId": "6f2ec712-5726-461b-c232-377a92d8bb71",
        "colab": {
          "base_uri": "https://localhost:8080/"
        }
      },
      "source": [
        "np.min(A)"
      ],
      "execution_count": 149,
      "outputs": [
        {
          "output_type": "execute_result",
          "data": {
            "text/plain": [
              "0.08695534603725286"
            ]
          },
          "metadata": {},
          "execution_count": 149
        }
      ]
    },
    {
      "cell_type": "markdown",
      "source": [
        "Średnia arytmetyczna:"
      ],
      "metadata": {
        "id": "why1Yb69vLw5"
      }
    },
    {
      "cell_type": "code",
      "metadata": {
        "id": "Mp4unYekwbuK",
        "outputId": "70f08287-4e01-4045-90a2-f7f27277717f",
        "colab": {
          "base_uri": "https://localhost:8080/"
        }
      },
      "source": [
        "np.mean(A)"
      ],
      "execution_count": 151,
      "outputs": [
        {
          "output_type": "execute_result",
          "data": {
            "text/plain": [
              "0.6564165072744746"
            ]
          },
          "metadata": {},
          "execution_count": 151
        }
      ]
    },
    {
      "cell_type": "markdown",
      "source": [
        "Mediana:"
      ],
      "metadata": {
        "id": "4xTAKXhMvPAH"
      }
    },
    {
      "cell_type": "code",
      "metadata": {
        "id": "Yj8kdjjBweFR",
        "outputId": "8d2f35fb-0b84-4015-ed13-12ce355415aa",
        "colab": {
          "base_uri": "https://localhost:8080/"
        }
      },
      "source": [
        "np.median(A)"
      ],
      "execution_count": 152,
      "outputs": [
        {
          "output_type": "execute_result",
          "data": {
            "text/plain": [
              "0.7782417274338482"
            ]
          },
          "metadata": {},
          "execution_count": 152
        }
      ]
    },
    {
      "cell_type": "markdown",
      "source": [
        "SD:"
      ],
      "metadata": {
        "id": "SXM6S_OYviXk"
      }
    },
    {
      "cell_type": "code",
      "metadata": {
        "id": "h7pdm7HZwgA6",
        "outputId": "f1621ba6-45dc-4630-e8b2-bc070e3ffe62",
        "colab": {
          "base_uri": "https://localhost:8080/"
        }
      },
      "source": [
        "np.std(A)"
      ],
      "execution_count": 153,
      "outputs": [
        {
          "output_type": "execute_result",
          "data": {
            "text/plain": [
              "0.2946783906031805"
            ]
          },
          "metadata": {},
          "execution_count": 153
        }
      ]
    },
    {
      "cell_type": "markdown",
      "metadata": {
        "id": "pV89pfLWAX0J"
      },
      "source": [
        "###  <a name='a7'></a> Indeksowanie, Wycinanie"
      ]
    },
    {
      "cell_type": "markdown",
      "source": [
        "Generowanie danych, za pomocą których będziemy pracować. Generowanie tablicy jednowymiarowej, która zawiera 20 elementów:"
      ],
      "metadata": {
        "id": "Kee8rrZBv-Il"
      }
    },
    {
      "cell_type": "code",
      "metadata": {
        "id": "nlGO7ztFxX8W",
        "outputId": "100b85fa-3879-4aed-9515-36567f21cdc5",
        "colab": {
          "base_uri": "https://localhost:8080/"
        }
      },
      "source": [
        "A = np.arange(20)\n",
        "A"
      ],
      "execution_count": 154,
      "outputs": [
        {
          "output_type": "execute_result",
          "data": {
            "text/plain": [
              "array([ 0,  1,  2,  3,  4,  5,  6,  7,  8,  9, 10, 11, 12, 13, 14, 15, 16,\n",
              "       17, 18, 19])"
            ]
          },
          "metadata": {},
          "execution_count": 154
        }
      ]
    },
    {
      "cell_type": "markdown",
      "source": [
        "Wycinanie podobne do tego w PY. Podajemy nawias kwadratowy i takie atrybuty jak: \n",
        "A[idx] = indeks, który chcemy wyciąć. W Py zaczynamy indeksować od 0. Można podać konkretny nr indeksu\n",
        "A[start:stop] = można podać konkretny przedział indeksu, czyli indeks startowy i końcowy\n",
        "a[:stop] lub A[start:] = można podać konkretny indeks, na którym chcemy skończyć lub konkretny indeks, od którego chcemy zacząć\n"
      ],
      "metadata": {
        "id": "_Cj45dJkwQeE"
      }
    },
    {
      "cell_type": "code",
      "metadata": {
        "id": "NKSqSA5ixcbK"
      },
      "source": [
        "# A[idx], A[start:stop], A[:stop], A[start:]"
      ],
      "execution_count": null,
      "outputs": []
    },
    {
      "cell_type": "code",
      "metadata": {
        "id": "SCLrtABgxsRC",
        "outputId": "621d7174-b67e-4a42-97ba-6ea85136ac92",
        "colab": {
          "base_uri": "https://localhost:8080/"
        }
      },
      "source": [
        "A[2]"
      ],
      "execution_count": 155,
      "outputs": [
        {
          "output_type": "execute_result",
          "data": {
            "text/plain": [
              "2"
            ]
          },
          "metadata": {},
          "execution_count": 155
        }
      ]
    },
    {
      "cell_type": "code",
      "source": [
        "A[5]"
      ],
      "metadata": {
        "id": "U0GQ5_4ixO9Z",
        "outputId": "40e89e06-869f-4de1-935a-11fa92123e0a",
        "colab": {
          "base_uri": "https://localhost:8080/"
        }
      },
      "execution_count": 159,
      "outputs": [
        {
          "output_type": "execute_result",
          "data": {
            "text/plain": [
              "5"
            ]
          },
          "metadata": {},
          "execution_count": 159
        }
      ]
    },
    {
      "cell_type": "code",
      "metadata": {
        "id": "VN82-Mmtxvhc",
        "outputId": "6fb7488b-78fa-4bf8-a8ad-5c83e0ca2277",
        "colab": {
          "base_uri": "https://localhost:8080/"
        }
      },
      "source": [
        "A[2:]"
      ],
      "execution_count": 156,
      "outputs": [
        {
          "output_type": "execute_result",
          "data": {
            "text/plain": [
              "array([ 2,  3,  4,  5,  6,  7,  8,  9, 10, 11, 12, 13, 14, 15, 16, 17, 18,\n",
              "       19])"
            ]
          },
          "metadata": {},
          "execution_count": 156
        }
      ]
    },
    {
      "cell_type": "code",
      "source": [
        "A[6:]"
      ],
      "metadata": {
        "id": "qM5Ce4CsxRZ-",
        "outputId": "bb2da0d4-2984-4d23-e734-d859988a0693",
        "colab": {
          "base_uri": "https://localhost:8080/"
        }
      },
      "execution_count": 160,
      "outputs": [
        {
          "output_type": "execute_result",
          "data": {
            "text/plain": [
              "array([ 6,  7,  8,  9, 10, 11, 12, 13, 14, 15, 16, 17, 18, 19])"
            ]
          },
          "metadata": {},
          "execution_count": 160
        }
      ]
    },
    {
      "cell_type": "code",
      "metadata": {
        "id": "Hs7J43_3xykJ",
        "outputId": "3aafbb52-dddf-4a4d-affe-7f470ca697f6",
        "colab": {
          "base_uri": "https://localhost:8080/"
        }
      },
      "source": [
        "A[:2]"
      ],
      "execution_count": 157,
      "outputs": [
        {
          "output_type": "execute_result",
          "data": {
            "text/plain": [
              "array([0, 1])"
            ]
          },
          "metadata": {},
          "execution_count": 157
        }
      ]
    },
    {
      "cell_type": "code",
      "source": [
        "A[:5]"
      ],
      "metadata": {
        "id": "QbJd9lInxUkw",
        "outputId": "248ccfbc-574e-4440-9724-d6fd2b642581",
        "colab": {
          "base_uri": "https://localhost:8080/"
        }
      },
      "execution_count": 161,
      "outputs": [
        {
          "output_type": "execute_result",
          "data": {
            "text/plain": [
              "array([0, 1, 2, 3, 4])"
            ]
          },
          "metadata": {},
          "execution_count": 161
        }
      ]
    },
    {
      "cell_type": "code",
      "metadata": {
        "id": "VYH2BRDkx2Fs",
        "outputId": "55cba069-b530-4d41-e84e-cd66c2118da5",
        "colab": {
          "base_uri": "https://localhost:8080/",
          "height": 35
        }
      },
      "source": [
        "A[[0, 2]]"
      ],
      "execution_count": null,
      "outputs": [
        {
          "output_type": "execute_result",
          "data": {
            "text/plain": [
              "array([0, 2])"
            ]
          },
          "metadata": {
            "tags": []
          },
          "execution_count": 121
        }
      ]
    },
    {
      "cell_type": "code",
      "source": [
        "A[[0, 5]]"
      ],
      "metadata": {
        "id": "HCJ5zPUqxLKN",
        "outputId": "95bb1b41-68be-4b35-ef59-572c6b76a161",
        "colab": {
          "base_uri": "https://localhost:8080/"
        }
      },
      "execution_count": 158,
      "outputs": [
        {
          "output_type": "execute_result",
          "data": {
            "text/plain": [
              "array([0, 5])"
            ]
          },
          "metadata": {},
          "execution_count": 158
        }
      ]
    },
    {
      "cell_type": "code",
      "metadata": {
        "id": "TmHYX_Rnx6Nr",
        "outputId": "ff3f588f-820c-4f5c-bca3-16b00779bb4e",
        "colab": {
          "base_uri": "https://localhost:8080/",
          "height": 35
        }
      },
      "source": [
        "A[-1]"
      ],
      "execution_count": null,
      "outputs": [
        {
          "output_type": "execute_result",
          "data": {
            "text/plain": [
              "19"
            ]
          },
          "metadata": {
            "tags": []
          },
          "execution_count": 122
        }
      ]
    },
    {
      "cell_type": "code",
      "source": [
        "A[-3]"
      ],
      "metadata": {
        "id": "-j3DOc0NxY1t",
        "outputId": "309f2186-5d0d-431b-d91e-0528a56cb469",
        "colab": {
          "base_uri": "https://localhost:8080/"
        }
      },
      "execution_count": 162,
      "outputs": [
        {
          "output_type": "execute_result",
          "data": {
            "text/plain": [
              "17"
            ]
          },
          "metadata": {},
          "execution_count": 162
        }
      ]
    },
    {
      "cell_type": "code",
      "metadata": {
        "id": "FDJ6Skm8x89z",
        "outputId": "1b88d73a-ad90-4b80-c0c5-883966b20644",
        "colab": {
          "base_uri": "https://localhost:8080/",
          "height": 35
        }
      },
      "source": [
        "A[10:15]"
      ],
      "execution_count": null,
      "outputs": [
        {
          "output_type": "execute_result",
          "data": {
            "text/plain": [
              "array([10, 11, 12, 13, 14])"
            ]
          },
          "metadata": {
            "tags": []
          },
          "execution_count": 123
        }
      ]
    },
    {
      "cell_type": "code",
      "source": [
        "A[13:20]"
      ],
      "metadata": {
        "id": "MbdDEOqqxewl",
        "outputId": "2ca0d89b-c9e1-451b-c9e9-2ed35f14bf2c",
        "colab": {
          "base_uri": "https://localhost:8080/"
        }
      },
      "execution_count": 163,
      "outputs": [
        {
          "output_type": "execute_result",
          "data": {
            "text/plain": [
              "array([13, 14, 15, 16, 17, 18, 19])"
            ]
          },
          "metadata": {},
          "execution_count": 163
        }
      ]
    },
    {
      "cell_type": "markdown",
      "source": [
        "Przekształcanie tablicy metodą reshape"
      ],
      "metadata": {
        "id": "P2wti7nLxnGn"
      }
    },
    {
      "cell_type": "code",
      "metadata": {
        "id": "K5sDbg62yBzS",
        "outputId": "f10e0110-cf4c-4c2e-84f6-ed4e3fe4d64a",
        "colab": {
          "base_uri": "https://localhost:8080/"
        }
      },
      "source": [
        "A = A.reshape(4, 5)\n",
        "A"
      ],
      "execution_count": 167,
      "outputs": [
        {
          "output_type": "execute_result",
          "data": {
            "text/plain": [
              "array([[ 0,  1,  2,  3,  4],\n",
              "       [ 5,  6,  7,  8,  9],\n",
              "       [10, 11, 12, 13, 14],\n",
              "       [15, 16, 17, 18, 19]])"
            ]
          },
          "metadata": {},
          "execution_count": 167
        }
      ]
    },
    {
      "cell_type": "markdown",
      "source": [
        "Wycinanie danych z tablicy:"
      ],
      "metadata": {
        "id": "jsXSOg9jxvXS"
      }
    },
    {
      "cell_type": "code",
      "source": [
        "A[1]"
      ],
      "metadata": {
        "id": "vwmGYlN9x0Ln",
        "outputId": "9207b224-131e-496d-c27a-27d2e97f0584",
        "colab": {
          "base_uri": "https://localhost:8080/"
        }
      },
      "execution_count": 168,
      "outputs": [
        {
          "output_type": "execute_result",
          "data": {
            "text/plain": [
              "array([5, 6, 7, 8, 9])"
            ]
          },
          "metadata": {},
          "execution_count": 168
        }
      ]
    },
    {
      "cell_type": "markdown",
      "source": [
        "Wycinanie kolumny:\n",
        "A[:, 0]\n",
        "Pierwszy parametr - dwukropek, drugi - indeks kolumny"
      ],
      "metadata": {
        "id": "k3Vwuh1FyB-Q"
      }
    },
    {
      "cell_type": "code",
      "source": [
        "A[:, 0]"
      ],
      "metadata": {
        "id": "NIyWiD_V4ouP",
        "outputId": "26135507-6211-4028-fd49-8198e4633977",
        "colab": {
          "base_uri": "https://localhost:8080/"
        }
      },
      "execution_count": 169,
      "outputs": [
        {
          "output_type": "execute_result",
          "data": {
            "text/plain": [
              "array([ 0,  5, 10, 15])"
            ]
          },
          "metadata": {},
          "execution_count": 169
        }
      ]
    },
    {
      "cell_type": "code",
      "source": [
        "A[:, 1]"
      ],
      "metadata": {
        "id": "atALoBf-4s4w",
        "outputId": "4aa05112-7692-496d-bedf-9488b69443cf",
        "colab": {
          "base_uri": "https://localhost:8080/"
        }
      },
      "execution_count": 170,
      "outputs": [
        {
          "output_type": "execute_result",
          "data": {
            "text/plain": [
              "array([ 1,  6, 11, 16])"
            ]
          },
          "metadata": {},
          "execution_count": 170
        }
      ]
    },
    {
      "cell_type": "code",
      "source": [
        "A[:, 2]"
      ],
      "metadata": {
        "id": "q9nZlEEe4vzg",
        "outputId": "2b88738a-8977-431d-93cb-202650896ca9",
        "colab": {
          "base_uri": "https://localhost:8080/"
        }
      },
      "execution_count": 171,
      "outputs": [
        {
          "output_type": "execute_result",
          "data": {
            "text/plain": [
              "array([ 2,  7, 12, 17])"
            ]
          },
          "metadata": {},
          "execution_count": 171
        }
      ]
    },
    {
      "cell_type": "code",
      "source": [
        "A[:, 3]"
      ],
      "metadata": {
        "id": "ahmrgwL24x95",
        "outputId": "47b651df-0532-4b07-b3d9-cafc3ab55578",
        "colab": {
          "base_uri": "https://localhost:8080/"
        }
      },
      "execution_count": 172,
      "outputs": [
        {
          "output_type": "execute_result",
          "data": {
            "text/plain": [
              "array([ 3,  8, 13, 18])"
            ]
          },
          "metadata": {},
          "execution_count": 172
        }
      ]
    },
    {
      "cell_type": "code",
      "source": [
        "A[:, 4]"
      ],
      "metadata": {
        "id": "PTNScwo94z4y",
        "outputId": "ff7db635-d3f8-4d70-a6af-4aa775dc8ffa",
        "colab": {
          "base_uri": "https://localhost:8080/"
        }
      },
      "execution_count": 173,
      "outputs": [
        {
          "output_type": "execute_result",
          "data": {
            "text/plain": [
              "array([ 4,  9, 14, 19])"
            ]
          },
          "metadata": {},
          "execution_count": 173
        }
      ]
    },
    {
      "cell_type": "code",
      "source": [
        "A[:, -1]"
      ],
      "metadata": {
        "id": "aqLZBihi42py",
        "outputId": "308cda3d-cb66-43bf-e9c5-2e3e0993af93",
        "colab": {
          "base_uri": "https://localhost:8080/"
        }
      },
      "execution_count": 174,
      "outputs": [
        {
          "output_type": "execute_result",
          "data": {
            "text/plain": [
              "array([ 4,  9, 14, 19])"
            ]
          },
          "metadata": {},
          "execution_count": 174
        }
      ]
    },
    {
      "cell_type": "code",
      "source": [
        "A[1, 3]"
      ],
      "metadata": {
        "id": "CwhzfR4-5GU4",
        "outputId": "ddb2d80a-31ac-4ec2-e476-67ae58e79c84",
        "colab": {
          "base_uri": "https://localhost:8080/"
        }
      },
      "execution_count": 176,
      "outputs": [
        {
          "output_type": "execute_result",
          "data": {
            "text/plain": [
              "8"
            ]
          },
          "metadata": {},
          "execution_count": 176
        }
      ]
    },
    {
      "cell_type": "markdown",
      "source": [
        "Możemy wycinać fragmenty kolumny:"
      ],
      "metadata": {
        "id": "JnRl0re75npl"
      }
    },
    {
      "cell_type": "code",
      "source": [
        "A[0:3, 2:4]"
      ],
      "metadata": {
        "id": "hPd-7vjP5aBn",
        "outputId": "8004861f-b7ac-4276-9394-6b7497e14dbf",
        "colab": {
          "base_uri": "https://localhost:8080/"
        }
      },
      "execution_count": 178,
      "outputs": [
        {
          "output_type": "execute_result",
          "data": {
            "text/plain": [
              "array([[ 2,  3],\n",
              "       [ 7,  8],\n",
              "       [12, 13]])"
            ]
          },
          "metadata": {},
          "execution_count": 178
        }
      ]
    },
    {
      "cell_type": "code",
      "metadata": {
        "id": "kspvnoRpyIC6",
        "outputId": "2ea4eb56-16af-4564-f21c-87eac94b6cd4",
        "colab": {
          "base_uri": "https://localhost:8080/",
          "height": 52
        }
      },
      "source": [
        "A[1:3, 1:4]"
      ],
      "execution_count": null,
      "outputs": [
        {
          "output_type": "execute_result",
          "data": {
            "text/plain": [
              "array([[ 6,  7,  8],\n",
              "       [11, 12, 13]])"
            ]
          },
          "metadata": {
            "tags": []
          },
          "execution_count": 134
        }
      ]
    },
    {
      "cell_type": "markdown",
      "source": [
        "Najpierw wycinamy 7, a później przypisujemy do niej 14 i wyświtlamy całą tablicę:"
      ],
      "metadata": {
        "id": "7-vWNgAF5sbA"
      }
    },
    {
      "cell_type": "code",
      "source": [
        "A[1, 2]"
      ],
      "metadata": {
        "id": "CbhwXR_e53b-",
        "outputId": "a210d0a8-7286-4da1-b1e5-69abd90035ce",
        "colab": {
          "base_uri": "https://localhost:8080/"
        }
      },
      "execution_count": 179,
      "outputs": [
        {
          "output_type": "execute_result",
          "data": {
            "text/plain": [
              "7"
            ]
          },
          "metadata": {},
          "execution_count": 179
        }
      ]
    },
    {
      "cell_type": "code",
      "metadata": {
        "id": "zhWuxbFFyqNp",
        "outputId": "111700ca-b802-4a83-c370-7367018690be",
        "colab": {
          "base_uri": "https://localhost:8080/",
          "height": 87
        }
      },
      "source": [
        "A[1, 2] = 14\n",
        "A"
      ],
      "execution_count": null,
      "outputs": [
        {
          "output_type": "execute_result",
          "data": {
            "text/plain": [
              "array([[ 0,  1,  2,  3,  4],\n",
              "       [ 5,  6, 14,  8,  9],\n",
              "       [10, 11, 12, 13, 14],\n",
              "       [15, 16, 17, 18, 19]])"
            ]
          },
          "metadata": {
            "tags": []
          },
          "execution_count": 136
        }
      ]
    },
    {
      "cell_type": "code",
      "source": [
        "A[2, 1] = 10\n",
        "A"
      ],
      "metadata": {
        "id": "4HNmfbSB5_ML",
        "outputId": "8818279b-d9d8-4a2c-80c1-31a85ef7df01",
        "colab": {
          "base_uri": "https://localhost:8080/"
        }
      },
      "execution_count": 181,
      "outputs": [
        {
          "output_type": "execute_result",
          "data": {
            "text/plain": [
              "array([[ 0,  1,  2,  3,  4],\n",
              "       [ 5,  6,  7,  8,  9],\n",
              "       [10, 10, 12, 13, 14],\n",
              "       [15, 16, 17, 18, 19]])"
            ]
          },
          "metadata": {},
          "execution_count": 181
        }
      ]
    },
    {
      "cell_type": "markdown",
      "metadata": {
        "id": "vf4CfFdiD3xX"
      },
      "source": [
        "### <a name='a8'></a> Iteracja po tablicach"
      ]
    },
    {
      "cell_type": "markdown",
      "source": [
        "Tablica dwuwymiarowa:"
      ],
      "metadata": {
        "id": "bh9Ngfau6WVv"
      }
    },
    {
      "cell_type": "code",
      "metadata": {
        "id": "nroCLVxE0-1D",
        "outputId": "f7fa2c6c-e9be-4088-dea5-acef966b4e2c",
        "colab": {
          "base_uri": "https://localhost:8080/"
        }
      },
      "source": [
        "A"
      ],
      "execution_count": 182,
      "outputs": [
        {
          "output_type": "execute_result",
          "data": {
            "text/plain": [
              "array([[ 0,  1,  2,  3,  4],\n",
              "       [ 5,  6,  7,  8,  9],\n",
              "       [10, 10, 12, 13, 14],\n",
              "       [15, 16, 17, 18, 19]])"
            ]
          },
          "metadata": {},
          "execution_count": 182
        }
      ]
    },
    {
      "cell_type": "markdown",
      "source": [
        "Iterowanie po wierszu:"
      ],
      "metadata": {
        "id": "J3veHYJo6ZhZ"
      }
    },
    {
      "cell_type": "code",
      "metadata": {
        "id": "k3qwe-Z31A0T",
        "outputId": "b076d1b5-2fda-4d22-c3c5-fb3c1495092b",
        "colab": {
          "base_uri": "https://localhost:8080/"
        }
      },
      "source": [
        "for row in A:\n",
        "    print(row)"
      ],
      "execution_count": 183,
      "outputs": [
        {
          "output_type": "stream",
          "name": "stdout",
          "text": [
            "[0 1 2 3 4]\n",
            "[5 6 7 8 9]\n",
            "[10 10 12 13 14]\n",
            "[15 16 17 18 19]\n"
          ]
        }
      ]
    },
    {
      "cell_type": "code",
      "source": [
        "for row in A:\n",
        "  print(row)"
      ],
      "metadata": {
        "id": "e1b44WQ66nNA",
        "outputId": "089ea8a6-a690-4f27-bda7-c24439515a7d",
        "colab": {
          "base_uri": "https://localhost:8080/"
        }
      },
      "execution_count": 186,
      "outputs": [
        {
          "output_type": "stream",
          "name": "stdout",
          "text": [
            "[0 1 2 3 4]\n",
            "[5 6 7 8 9]\n",
            "[10 10 12 13 14]\n",
            "[15 16 17 18 19]\n"
          ]
        }
      ]
    },
    {
      "cell_type": "code",
      "metadata": {
        "id": "brrXJa131GMe",
        "outputId": "d847a5c5-4aff-435a-e14c-33cb64458ce9",
        "colab": {
          "base_uri": "https://localhost:8080/"
        }
      },
      "source": [
        "for row in A:\n",
        "    print(row[:3])"
      ],
      "execution_count": 184,
      "outputs": [
        {
          "output_type": "stream",
          "name": "stdout",
          "text": [
            "[0 1 2]\n",
            "[5 6 7]\n",
            "[10 10 12]\n",
            "[15 16 17]\n"
          ]
        }
      ]
    },
    {
      "cell_type": "code",
      "source": [
        "for row in A:\n",
        "  print(row[:1])"
      ],
      "metadata": {
        "id": "KNZdv-Xd6y6X",
        "outputId": "a6cca4c6-15f6-4d0e-f5ca-a26fbbae684e",
        "colab": {
          "base_uri": "https://localhost:8080/"
        }
      },
      "execution_count": 187,
      "outputs": [
        {
          "output_type": "stream",
          "name": "stdout",
          "text": [
            "[0]\n",
            "[5]\n",
            "[10]\n",
            "[15]\n"
          ]
        }
      ]
    },
    {
      "cell_type": "markdown",
      "source": [
        "Iterowanie po każdym elemencie. Do tego potrzebny atrybut flat:"
      ],
      "metadata": {
        "id": "FjTWKlSx7OgF"
      }
    },
    {
      "cell_type": "code",
      "metadata": {
        "id": "t-1ke0qM1vQv",
        "outputId": "30c84605-ca3e-4f73-db3d-8ea4f9c11cf4",
        "colab": {
          "base_uri": "https://localhost:8080/"
        }
      },
      "source": [
        "for item in A.flat:\n",
        "    print(item)"
      ],
      "execution_count": 189,
      "outputs": [
        {
          "output_type": "stream",
          "name": "stdout",
          "text": [
            "0\n",
            "1\n",
            "2\n",
            "3\n",
            "4\n",
            "5\n",
            "6\n",
            "7\n",
            "8\n",
            "9\n",
            "10\n",
            "10\n",
            "12\n",
            "13\n",
            "14\n",
            "15\n",
            "16\n",
            "17\n",
            "18\n",
            "19\n"
          ]
        }
      ]
    },
    {
      "cell_type": "markdown",
      "metadata": {
        "id": "ydh5YO0oEa-6"
      },
      "source": [
        "### <a name='a9'></a> Zmiana rozmiaru tablic"
      ]
    },
    {
      "cell_type": "code",
      "metadata": {
        "id": "3ARXQuzC15M0",
        "outputId": "32287e53-84ad-4386-dd02-904699f4b250",
        "colab": {
          "base_uri": "https://localhost:8080/",
          "height": 87
        }
      },
      "source": [
        "A"
      ],
      "execution_count": null,
      "outputs": [
        {
          "output_type": "execute_result",
          "data": {
            "text/plain": [
              "array([[ 0,  1,  2,  3,  4],\n",
              "       [ 5,  6, 14,  8,  9],\n",
              "       [10, 11, 12, 13, 14],\n",
              "       [15, 16, 17, 18, 19]])"
            ]
          },
          "metadata": {
            "tags": []
          },
          "execution_count": 142
        }
      ]
    },
    {
      "cell_type": "markdown",
      "source": [
        "Tablica wymiaru 4x5, o czym możemy sobie przypomnieć metodą shape:"
      ],
      "metadata": {
        "id": "CC2nUtC-7g_o"
      }
    },
    {
      "cell_type": "code",
      "metadata": {
        "id": "6IsjVflq17Kv",
        "outputId": "f5950067-273e-4992-e5f9-44045b5cbb77",
        "colab": {
          "base_uri": "https://localhost:8080/"
        }
      },
      "source": [
        "A.shape"
      ],
      "execution_count": 190,
      "outputs": [
        {
          "output_type": "execute_result",
          "data": {
            "text/plain": [
              "(4, 5)"
            ]
          },
          "metadata": {},
          "execution_count": 190
        }
      ]
    },
    {
      "cell_type": "markdown",
      "source": [
        "Metoda reshape - można za jej pomocą zmienić rozmiar tablicy"
      ],
      "metadata": {
        "id": "QrJa0YOV7qNT"
      }
    },
    {
      "cell_type": "code",
      "metadata": {
        "id": "Lexv-_Ks18dS",
        "outputId": "8be7bee3-cb7b-49f0-a072-872136691a7b",
        "colab": {
          "base_uri": "https://localhost:8080/"
        }
      },
      "source": [
        "A.reshape(5, 4)"
      ],
      "execution_count": 191,
      "outputs": [
        {
          "output_type": "execute_result",
          "data": {
            "text/plain": [
              "array([[ 0,  1,  2,  3],\n",
              "       [ 4,  5,  6,  7],\n",
              "       [ 8,  9, 10, 10],\n",
              "       [12, 13, 14, 15],\n",
              "       [16, 17, 18, 19]])"
            ]
          },
          "metadata": {},
          "execution_count": 191
        }
      ]
    },
    {
      "cell_type": "code",
      "source": [
        "A.reshape(4, 5)"
      ],
      "metadata": {
        "id": "aQuh5N4N7yRd",
        "outputId": "de11bc3f-b083-40b6-eb39-bdb619da84ff",
        "colab": {
          "base_uri": "https://localhost:8080/"
        }
      },
      "execution_count": 192,
      "outputs": [
        {
          "output_type": "execute_result",
          "data": {
            "text/plain": [
              "array([[ 0,  1,  2,  3,  4],\n",
              "       [ 5,  6,  7,  8,  9],\n",
              "       [10, 10, 12, 13, 14],\n",
              "       [15, 16, 17, 18, 19]])"
            ]
          },
          "metadata": {},
          "execution_count": 192
        }
      ]
    },
    {
      "cell_type": "markdown",
      "source": [
        "Metoda ravel pozwala wypłaszczyć dane, powrót do płaskiej postaci"
      ],
      "metadata": {
        "id": "XwdyO_pu7-Px"
      }
    },
    {
      "cell_type": "code",
      "metadata": {
        "id": "KAdM271n2AGC",
        "outputId": "71061ff7-63cc-46ed-d053-198736429ff0",
        "colab": {
          "base_uri": "https://localhost:8080/"
        }
      },
      "source": [
        "A.ravel()"
      ],
      "execution_count": 193,
      "outputs": [
        {
          "output_type": "execute_result",
          "data": {
            "text/plain": [
              "array([ 0,  1,  2,  3,  4,  5,  6,  7,  8,  9, 10, 10, 12, 13, 14, 15, 16,\n",
              "       17, 18, 19])"
            ]
          },
          "metadata": {},
          "execution_count": 193
        }
      ]
    },
    {
      "cell_type": "markdown",
      "source": [
        "Transponowanie tablicy odbywa się tak samo jak transponowanie macierzy, czyli zamieniamy wierz na kolumnę, kolumnę na wiersz"
      ],
      "metadata": {
        "id": "gmohheN5BWkL"
      }
    },
    {
      "cell_type": "code",
      "metadata": {
        "id": "GSURjntW2ICI",
        "outputId": "54b814e4-d5cf-42c4-c117-f33f5d244c8d",
        "colab": {
          "base_uri": "https://localhost:8080/",
          "height": 104
        }
      },
      "source": [
        "A.T"
      ],
      "execution_count": null,
      "outputs": [
        {
          "output_type": "execute_result",
          "data": {
            "text/plain": [
              "array([[ 0,  5, 10, 15],\n",
              "       [ 1,  6, 11, 16],\n",
              "       [ 2, 14, 12, 17],\n",
              "       [ 3,  8, 13, 18],\n",
              "       [ 4,  9, 14, 19]])"
            ]
          },
          "metadata": {
            "tags": []
          },
          "execution_count": 146
        }
      ]
    },
    {
      "cell_type": "markdown",
      "metadata": {
        "id": "oQbVz1kTs4Lv"
      },
      "source": [
        "### <a name='a10'></a> Maski logiczne"
      ]
    },
    {
      "cell_type": "markdown",
      "source": [
        "Pomocne zagadnienie w pracy z tablicami"
      ],
      "metadata": {
        "id": "wLY_jwp3Bn87"
      }
    },
    {
      "cell_type": "code",
      "source": [
        "A = np.arange(start=-10, stop=10, step=0.5)"
      ],
      "metadata": {
        "id": "Utq_pZAbBw64"
      },
      "execution_count": 194,
      "outputs": []
    },
    {
      "cell_type": "code",
      "metadata": {
        "id": "ABlPSyvQ2RcE",
        "outputId": "837cbeda-952a-441a-d09b-8aba1afa71ec",
        "colab": {
          "base_uri": "https://localhost:8080/"
        }
      },
      "source": [
        "A = np.arange(start=-10, stop=10, step=0.5)\n",
        "A = A.reshape(10, -1)\n",
        "A"
      ],
      "execution_count": 195,
      "outputs": [
        {
          "output_type": "execute_result",
          "data": {
            "text/plain": [
              "array([[-10. ,  -9.5,  -9. ,  -8.5],\n",
              "       [ -8. ,  -7.5,  -7. ,  -6.5],\n",
              "       [ -6. ,  -5.5,  -5. ,  -4.5],\n",
              "       [ -4. ,  -3.5,  -3. ,  -2.5],\n",
              "       [ -2. ,  -1.5,  -1. ,  -0.5],\n",
              "       [  0. ,   0.5,   1. ,   1.5],\n",
              "       [  2. ,   2.5,   3. ,   3.5],\n",
              "       [  4. ,   4.5,   5. ,   5.5],\n",
              "       [  6. ,   6.5,   7. ,   7.5],\n",
              "       [  8. ,   8.5,   9. ,   9.5]])"
            ]
          },
          "metadata": {},
          "execution_count": 195
        }
      ]
    },
    {
      "cell_type": "markdown",
      "source": [
        "Czym są maski logiczne? Jak możemy je tworzyć? Dlaczego są potrzebne w wycinaniu danych?"
      ],
      "metadata": {
        "id": "QrMuwDSGCHPl"
      }
    },
    {
      "cell_type": "markdown",
      "source": [
        "Gdybyśmy chcieli się dowiedzieć, w których miejscach mamy wartości ujemne, możemy sprawdzić to równaniem:"
      ],
      "metadata": {
        "id": "Dad0tlitCPKu"
      }
    },
    {
      "cell_type": "code",
      "metadata": {
        "id": "RxhN-K9i2SXv",
        "outputId": "f0e26d93-fc37-4792-8461-d5b66a132582",
        "colab": {
          "base_uri": "https://localhost:8080/"
        }
      },
      "source": [
        "A > 0"
      ],
      "execution_count": 196,
      "outputs": [
        {
          "output_type": "execute_result",
          "data": {
            "text/plain": [
              "array([[False, False, False, False],\n",
              "       [False, False, False, False],\n",
              "       [False, False, False, False],\n",
              "       [False, False, False, False],\n",
              "       [False, False, False, False],\n",
              "       [False,  True,  True,  True],\n",
              "       [ True,  True,  True,  True],\n",
              "       [ True,  True,  True,  True],\n",
              "       [ True,  True,  True,  True],\n",
              "       [ True,  True,  True,  True]])"
            ]
          },
          "metadata": {},
          "execution_count": 196
        }
      ]
    },
    {
      "cell_type": "markdown",
      "source": [
        "To równanie zwraca nam maskę logiczną na tablicę. Zwróci prawdę, gdy mamy wartości większe od 0, fałsz - gdy są mniejsze. Dzięki takiej masce możemy wyciąć tylko te dane, które nas interesują.\n",
        "\n",
        "Przekazując taką maskę do tablicy:"
      ],
      "metadata": {
        "id": "2iPvW0bICZpO"
      }
    },
    {
      "cell_type": "code",
      "source": [
        "A[A>0]"
      ],
      "metadata": {
        "id": "Flrj2HqyCxFw",
        "outputId": "bc0c3a0f-5fc9-49af-c8ce-034387049a9c",
        "colab": {
          "base_uri": "https://localhost:8080/"
        }
      },
      "execution_count": 197,
      "outputs": [
        {
          "output_type": "execute_result",
          "data": {
            "text/plain": [
              "array([0.5, 1. , 1.5, 2. , 2.5, 3. , 3.5, 4. , 4.5, 5. , 5.5, 6. , 6.5,\n",
              "       7. , 7.5, 8. , 8.5, 9. , 9.5])"
            ]
          },
          "metadata": {},
          "execution_count": 197
        }
      ]
    },
    {
      "cell_type": "markdown",
      "source": [
        "Dostajemy tylko te elementy, które są dodatnie, czyli tam, gdzie wartość wynosi True."
      ],
      "metadata": {
        "id": "lxUyNXGkC0pc"
      }
    },
    {
      "cell_type": "markdown",
      "source": [
        "Możemy te elementy wycinać, dzięki takim operacjom. Ale możemy też łączyć dwa warunki i podać np. wartości w konkretnym przedziale, dzięki funkcji bitwise_and:"
      ],
      "metadata": {
        "id": "CGYQ6RltDAUa"
      }
    },
    {
      "cell_type": "code",
      "metadata": {
        "id": "KtsG8-HU2ige",
        "outputId": "dd783663-4e53-49bd-a622-50f9f44335bb",
        "colab": {
          "base_uri": "https://localhost:8080/"
        }
      },
      "source": [
        "np.bitwise_and(A > -5, A < 5)"
      ],
      "execution_count": 198,
      "outputs": [
        {
          "output_type": "execute_result",
          "data": {
            "text/plain": [
              "array([[False, False, False, False],\n",
              "       [False, False, False, False],\n",
              "       [False, False, False,  True],\n",
              "       [ True,  True,  True,  True],\n",
              "       [ True,  True,  True,  True],\n",
              "       [ True,  True,  True,  True],\n",
              "       [ True,  True,  True,  True],\n",
              "       [ True,  True, False, False],\n",
              "       [False, False, False, False],\n",
              "       [False, False, False, False]])"
            ]
          },
          "metadata": {},
          "execution_count": 198
        }
      ]
    },
    {
      "cell_type": "markdown",
      "source": [
        "Ten warunek zwróci nam konkretną maskę i prawdę, gdzie te oba warunki są spełnione."
      ],
      "metadata": {
        "id": "ZU_qgzluDpP3"
      }
    },
    {
      "cell_type": "markdown",
      "source": [
        "Dzięki tej masce możemy wyciąć te elementy, które nas interesują, czyli elementy z przedziału -5, 5"
      ],
      "metadata": {
        "id": "pfQ5lsBlDxe7"
      }
    },
    {
      "cell_type": "code",
      "metadata": {
        "id": "C4emm4Kp2oHD",
        "outputId": "ec99760c-db99-4096-9aa1-4119d9496201",
        "colab": {
          "base_uri": "https://localhost:8080/"
        }
      },
      "source": [
        "A[np.bitwise_and(A > -5, A < 5)]"
      ],
      "execution_count": 199,
      "outputs": [
        {
          "output_type": "execute_result",
          "data": {
            "text/plain": [
              "array([-4.5, -4. , -3.5, -3. , -2.5, -2. , -1.5, -1. , -0.5,  0. ,  0.5,\n",
              "        1. ,  1.5,  2. ,  2.5,  3. ,  3.5,  4. ,  4.5])"
            ]
          },
          "metadata": {},
          "execution_count": 199
        }
      ]
    },
    {
      "cell_type": "markdown",
      "source": [
        "Alternatywa - bitwise_or = możemy podać dwa warunki, np. A < -5, A > 5:"
      ],
      "metadata": {
        "id": "ta49TfxhD-g5"
      }
    },
    {
      "cell_type": "code",
      "metadata": {
        "id": "ootgC8yf2-5W",
        "outputId": "523e1093-3166-4cd7-ef22-338df9c3e37f",
        "colab": {
          "base_uri": "https://localhost:8080/"
        }
      },
      "source": [
        "np.bitwise_or(A < -5, A > 5)"
      ],
      "execution_count": 200,
      "outputs": [
        {
          "output_type": "execute_result",
          "data": {
            "text/plain": [
              "array([[ True,  True,  True,  True],\n",
              "       [ True,  True,  True,  True],\n",
              "       [ True,  True, False, False],\n",
              "       [False, False, False, False],\n",
              "       [False, False, False, False],\n",
              "       [False, False, False, False],\n",
              "       [False, False, False, False],\n",
              "       [False, False, False,  True],\n",
              "       [ True,  True,  True,  True],\n",
              "       [ True,  True,  True,  True]])"
            ]
          },
          "metadata": {},
          "execution_count": 200
        }
      ]
    },
    {
      "cell_type": "code",
      "source": [],
      "metadata": {
        "id": "uqloO6FSEJ0u"
      },
      "execution_count": null,
      "outputs": []
    }
  ]
}